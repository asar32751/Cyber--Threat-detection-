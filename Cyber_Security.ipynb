{
  "nbformat": 4,
  "nbformat_minor": 0,
  "metadata": {
    "colab": {
      "name": "Cyber_Security.ipynb",
      "provenance": [],
      "collapsed_sections": [],
      "include_colab_link": true
    },
    "kernelspec": {
      "name": "python3",
      "display_name": "Python 3"
    },
    "language_info": {
      "name": "python"
    },
    "accelerator": "GPU"
  },
  "cells": [
    {
      "cell_type": "markdown",
      "metadata": {
        "id": "view-in-github",
        "colab_type": "text"
      },
      "source": [
        "<a href=\"https://colab.research.google.com/github/asar32751/Cyber--Threat-detection-/blob/main/Cyber_Security.ipynb\" target=\"_parent\"><img src=\"https://colab.research.google.com/assets/colab-badge.svg\" alt=\"Open In Colab\"/></a>"
      ]
    },
    {
      "cell_type": "code",
      "metadata": {
        "id": "efuD0UKe1wkr"
      },
      "source": [
        "from google.colab import drive\n",
        "drive.mount('/content/gdrive')"
      ],
      "execution_count": null,
      "outputs": []
    },
    {
      "cell_type": "code",
      "metadata": {
        "colab": {
          "base_uri": "https://localhost:8080/"
        },
        "id": "4ozB4z4Ip45J",
        "outputId": "0be223c4-3965-41a8-c8a9-4aea1974515c"
      },
      "source": [
        "import numpy as np \n",
        "import pandas as pd \n",
        "import matplotlib.pyplot as plt\n",
        "import seaborn as sns\n",
        "import itertools\n",
        "import random\n",
        "from sklearn.ensemble import RandomForestClassifier\n",
        "from sklearn.neighbors import KNeighborsClassifier\n",
        "from sklearn.linear_model import LogisticRegression\n",
        "from sklearn.preprocessing import LabelEncoder\n",
        "from sklearn.model_selection import train_test_split\n",
        "from sklearn.model_selection import cross_val_score\n",
        "from sklearn.metrics import mean_absolute_error\n",
        "from sklearn.metrics import accuracy_score\n",
        "from sklearn.metrics import confusion_matrix\n",
        "print('Welcome!')"
      ],
      "execution_count": null,
      "outputs": [
        {
          "output_type": "stream",
          "text": [
            "Welcome!\n"
          ],
          "name": "stdout"
        }
      ]
    },
    {
      "cell_type": "code",
      "metadata": {
        "id": "CdVggErjzoev"
      },
      "source": [
        ""
      ],
      "execution_count": null,
      "outputs": []
    },
    {
      "cell_type": "code",
      "metadata": {
        "id": "2OKB1DEQrhrA"
      },
      "source": [
        "file_path_20_percent = '/content/gdrive/MyDrive/nsl-kdd/KDDTrain+_20Percent.txt'\n",
        "file_path_full_training_set = '/content/gdrive/MyDrive/nsl-kdd/KDDTrain+.txt'\n",
        "file_path_test = '/content/gdrive/MyDrive/nsl-kdd/KDDTest+.txt'\n",
        "df = pd.read_csv(file_path_full_training_set)\n",
        "test_df = pd.read_csv(file_path_test)"
      ],
      "execution_count": null,
      "outputs": []
    },
    {
      "cell_type": "code",
      "metadata": {
        "colab": {
          "base_uri": "https://localhost:8080/",
          "height": 223
        },
        "id": "5ojbBsyJ1h12",
        "outputId": "4533cdde-ea5f-4671-ead1-50d6306d03af"
      },
      "source": [
        "columns = (['duration'\n",
        ",'protocol_type'\n",
        ",'service'\n",
        ",'flag'\n",
        ",'src_bytes'\n",
        ",'dst_bytes'\n",
        ",'land'\n",
        ",'wrong_fragment'\n",
        ",'urgent'\n",
        ",'hot'\n",
        ",'num_failed_logins'\n",
        ",'logged_in'\n",
        ",'num_compromised'\n",
        ",'root_shell'\n",
        ",'su_attempted'\n",
        ",'num_root'\n",
        ",'num_file_creations'\n",
        ",'num_shells'\n",
        ",'num_access_files'\n",
        ",'num_outbound_cmds'\n",
        ",'is_host_login'\n",
        ",'is_guest_login'\n",
        ",'count'\n",
        ",'srv_count'\n",
        ",'serror_rate'\n",
        ",'srv_serror_rate'\n",
        ",'rerror_rate'\n",
        ",'srv_rerror_rate'\n",
        ",'same_srv_rate'\n",
        ",'diff_srv_rate'\n",
        ",'srv_diff_host_rate'\n",
        ",'dst_host_count'\n",
        ",'dst_host_srv_count'\n",
        ",'dst_host_same_srv_rate'\n",
        ",'dst_host_diff_srv_rate'\n",
        ",'dst_host_same_src_port_rate'\n",
        ",'dst_host_srv_diff_host_rate'\n",
        ",'dst_host_serror_rate'\n",
        ",'dst_host_srv_serror_rate'\n",
        ",'dst_host_rerror_rate'\n",
        ",'dst_host_srv_rerror_rate'\n",
        ",'attack'\n",
        ",'level'])\n",
        "\n",
        "df.columns = columns\n",
        "test_df.columns = columns\n",
        "\n",
        "df.head()"
      ],
      "execution_count": null,
      "outputs": [
        {
          "output_type": "execute_result",
          "data": {
            "text/html": [
              "<div>\n",
              "<style scoped>\n",
              "    .dataframe tbody tr th:only-of-type {\n",
              "        vertical-align: middle;\n",
              "    }\n",
              "\n",
              "    .dataframe tbody tr th {\n",
              "        vertical-align: top;\n",
              "    }\n",
              "\n",
              "    .dataframe thead th {\n",
              "        text-align: right;\n",
              "    }\n",
              "</style>\n",
              "<table border=\"1\" class=\"dataframe\">\n",
              "  <thead>\n",
              "    <tr style=\"text-align: right;\">\n",
              "      <th></th>\n",
              "      <th>duration</th>\n",
              "      <th>protocol_type</th>\n",
              "      <th>service</th>\n",
              "      <th>flag</th>\n",
              "      <th>src_bytes</th>\n",
              "      <th>dst_bytes</th>\n",
              "      <th>land</th>\n",
              "      <th>wrong_fragment</th>\n",
              "      <th>urgent</th>\n",
              "      <th>hot</th>\n",
              "      <th>num_failed_logins</th>\n",
              "      <th>logged_in</th>\n",
              "      <th>num_compromised</th>\n",
              "      <th>root_shell</th>\n",
              "      <th>su_attempted</th>\n",
              "      <th>num_root</th>\n",
              "      <th>num_file_creations</th>\n",
              "      <th>num_shells</th>\n",
              "      <th>num_access_files</th>\n",
              "      <th>num_outbound_cmds</th>\n",
              "      <th>is_host_login</th>\n",
              "      <th>is_guest_login</th>\n",
              "      <th>count</th>\n",
              "      <th>srv_count</th>\n",
              "      <th>serror_rate</th>\n",
              "      <th>srv_serror_rate</th>\n",
              "      <th>rerror_rate</th>\n",
              "      <th>srv_rerror_rate</th>\n",
              "      <th>same_srv_rate</th>\n",
              "      <th>diff_srv_rate</th>\n",
              "      <th>srv_diff_host_rate</th>\n",
              "      <th>dst_host_count</th>\n",
              "      <th>dst_host_srv_count</th>\n",
              "      <th>dst_host_same_srv_rate</th>\n",
              "      <th>dst_host_diff_srv_rate</th>\n",
              "      <th>dst_host_same_src_port_rate</th>\n",
              "      <th>dst_host_srv_diff_host_rate</th>\n",
              "      <th>dst_host_serror_rate</th>\n",
              "      <th>dst_host_srv_serror_rate</th>\n",
              "      <th>dst_host_rerror_rate</th>\n",
              "      <th>dst_host_srv_rerror_rate</th>\n",
              "      <th>attack</th>\n",
              "      <th>level</th>\n",
              "    </tr>\n",
              "  </thead>\n",
              "  <tbody>\n",
              "    <tr>\n",
              "      <th>0</th>\n",
              "      <td>0</td>\n",
              "      <td>udp</td>\n",
              "      <td>other</td>\n",
              "      <td>SF</td>\n",
              "      <td>146</td>\n",
              "      <td>0</td>\n",
              "      <td>0</td>\n",
              "      <td>0</td>\n",
              "      <td>0</td>\n",
              "      <td>0</td>\n",
              "      <td>0</td>\n",
              "      <td>0</td>\n",
              "      <td>0</td>\n",
              "      <td>0</td>\n",
              "      <td>0</td>\n",
              "      <td>0</td>\n",
              "      <td>0</td>\n",
              "      <td>0</td>\n",
              "      <td>0</td>\n",
              "      <td>0</td>\n",
              "      <td>0</td>\n",
              "      <td>0</td>\n",
              "      <td>13</td>\n",
              "      <td>1</td>\n",
              "      <td>0.0</td>\n",
              "      <td>0.0</td>\n",
              "      <td>0.0</td>\n",
              "      <td>0.0</td>\n",
              "      <td>0.08</td>\n",
              "      <td>0.15</td>\n",
              "      <td>0.00</td>\n",
              "      <td>255</td>\n",
              "      <td>1</td>\n",
              "      <td>0.00</td>\n",
              "      <td>0.60</td>\n",
              "      <td>0.88</td>\n",
              "      <td>0.00</td>\n",
              "      <td>0.00</td>\n",
              "      <td>0.00</td>\n",
              "      <td>0.0</td>\n",
              "      <td>0.00</td>\n",
              "      <td>normal</td>\n",
              "      <td>15</td>\n",
              "    </tr>\n",
              "    <tr>\n",
              "      <th>1</th>\n",
              "      <td>0</td>\n",
              "      <td>tcp</td>\n",
              "      <td>private</td>\n",
              "      <td>S0</td>\n",
              "      <td>0</td>\n",
              "      <td>0</td>\n",
              "      <td>0</td>\n",
              "      <td>0</td>\n",
              "      <td>0</td>\n",
              "      <td>0</td>\n",
              "      <td>0</td>\n",
              "      <td>0</td>\n",
              "      <td>0</td>\n",
              "      <td>0</td>\n",
              "      <td>0</td>\n",
              "      <td>0</td>\n",
              "      <td>0</td>\n",
              "      <td>0</td>\n",
              "      <td>0</td>\n",
              "      <td>0</td>\n",
              "      <td>0</td>\n",
              "      <td>0</td>\n",
              "      <td>123</td>\n",
              "      <td>6</td>\n",
              "      <td>1.0</td>\n",
              "      <td>1.0</td>\n",
              "      <td>0.0</td>\n",
              "      <td>0.0</td>\n",
              "      <td>0.05</td>\n",
              "      <td>0.07</td>\n",
              "      <td>0.00</td>\n",
              "      <td>255</td>\n",
              "      <td>26</td>\n",
              "      <td>0.10</td>\n",
              "      <td>0.05</td>\n",
              "      <td>0.00</td>\n",
              "      <td>0.00</td>\n",
              "      <td>1.00</td>\n",
              "      <td>1.00</td>\n",
              "      <td>0.0</td>\n",
              "      <td>0.00</td>\n",
              "      <td>neptune</td>\n",
              "      <td>19</td>\n",
              "    </tr>\n",
              "    <tr>\n",
              "      <th>2</th>\n",
              "      <td>0</td>\n",
              "      <td>tcp</td>\n",
              "      <td>http</td>\n",
              "      <td>SF</td>\n",
              "      <td>232</td>\n",
              "      <td>8153</td>\n",
              "      <td>0</td>\n",
              "      <td>0</td>\n",
              "      <td>0</td>\n",
              "      <td>0</td>\n",
              "      <td>0</td>\n",
              "      <td>1</td>\n",
              "      <td>0</td>\n",
              "      <td>0</td>\n",
              "      <td>0</td>\n",
              "      <td>0</td>\n",
              "      <td>0</td>\n",
              "      <td>0</td>\n",
              "      <td>0</td>\n",
              "      <td>0</td>\n",
              "      <td>0</td>\n",
              "      <td>0</td>\n",
              "      <td>5</td>\n",
              "      <td>5</td>\n",
              "      <td>0.2</td>\n",
              "      <td>0.2</td>\n",
              "      <td>0.0</td>\n",
              "      <td>0.0</td>\n",
              "      <td>1.00</td>\n",
              "      <td>0.00</td>\n",
              "      <td>0.00</td>\n",
              "      <td>30</td>\n",
              "      <td>255</td>\n",
              "      <td>1.00</td>\n",
              "      <td>0.00</td>\n",
              "      <td>0.03</td>\n",
              "      <td>0.04</td>\n",
              "      <td>0.03</td>\n",
              "      <td>0.01</td>\n",
              "      <td>0.0</td>\n",
              "      <td>0.01</td>\n",
              "      <td>normal</td>\n",
              "      <td>21</td>\n",
              "    </tr>\n",
              "    <tr>\n",
              "      <th>3</th>\n",
              "      <td>0</td>\n",
              "      <td>tcp</td>\n",
              "      <td>http</td>\n",
              "      <td>SF</td>\n",
              "      <td>199</td>\n",
              "      <td>420</td>\n",
              "      <td>0</td>\n",
              "      <td>0</td>\n",
              "      <td>0</td>\n",
              "      <td>0</td>\n",
              "      <td>0</td>\n",
              "      <td>1</td>\n",
              "      <td>0</td>\n",
              "      <td>0</td>\n",
              "      <td>0</td>\n",
              "      <td>0</td>\n",
              "      <td>0</td>\n",
              "      <td>0</td>\n",
              "      <td>0</td>\n",
              "      <td>0</td>\n",
              "      <td>0</td>\n",
              "      <td>0</td>\n",
              "      <td>30</td>\n",
              "      <td>32</td>\n",
              "      <td>0.0</td>\n",
              "      <td>0.0</td>\n",
              "      <td>0.0</td>\n",
              "      <td>0.0</td>\n",
              "      <td>1.00</td>\n",
              "      <td>0.00</td>\n",
              "      <td>0.09</td>\n",
              "      <td>255</td>\n",
              "      <td>255</td>\n",
              "      <td>1.00</td>\n",
              "      <td>0.00</td>\n",
              "      <td>0.00</td>\n",
              "      <td>0.00</td>\n",
              "      <td>0.00</td>\n",
              "      <td>0.00</td>\n",
              "      <td>0.0</td>\n",
              "      <td>0.00</td>\n",
              "      <td>normal</td>\n",
              "      <td>21</td>\n",
              "    </tr>\n",
              "    <tr>\n",
              "      <th>4</th>\n",
              "      <td>0</td>\n",
              "      <td>tcp</td>\n",
              "      <td>private</td>\n",
              "      <td>REJ</td>\n",
              "      <td>0</td>\n",
              "      <td>0</td>\n",
              "      <td>0</td>\n",
              "      <td>0</td>\n",
              "      <td>0</td>\n",
              "      <td>0</td>\n",
              "      <td>0</td>\n",
              "      <td>0</td>\n",
              "      <td>0</td>\n",
              "      <td>0</td>\n",
              "      <td>0</td>\n",
              "      <td>0</td>\n",
              "      <td>0</td>\n",
              "      <td>0</td>\n",
              "      <td>0</td>\n",
              "      <td>0</td>\n",
              "      <td>0</td>\n",
              "      <td>0</td>\n",
              "      <td>121</td>\n",
              "      <td>19</td>\n",
              "      <td>0.0</td>\n",
              "      <td>0.0</td>\n",
              "      <td>1.0</td>\n",
              "      <td>1.0</td>\n",
              "      <td>0.16</td>\n",
              "      <td>0.06</td>\n",
              "      <td>0.00</td>\n",
              "      <td>255</td>\n",
              "      <td>19</td>\n",
              "      <td>0.07</td>\n",
              "      <td>0.07</td>\n",
              "      <td>0.00</td>\n",
              "      <td>0.00</td>\n",
              "      <td>0.00</td>\n",
              "      <td>0.00</td>\n",
              "      <td>1.0</td>\n",
              "      <td>1.00</td>\n",
              "      <td>neptune</td>\n",
              "      <td>21</td>\n",
              "    </tr>\n",
              "  </tbody>\n",
              "</table>\n",
              "</div>"
            ],
            "text/plain": [
              "   duration protocol_type  service  ... dst_host_srv_rerror_rate   attack  level\n",
              "0         0           udp    other  ...                     0.00   normal     15\n",
              "1         0           tcp  private  ...                     0.00  neptune     19\n",
              "2         0           tcp     http  ...                     0.01   normal     21\n",
              "3         0           tcp     http  ...                     0.00   normal     21\n",
              "4         0           tcp  private  ...                     1.00  neptune     21\n",
              "\n",
              "[5 rows x 43 columns]"
            ]
          },
          "metadata": {
            "tags": []
          },
          "execution_count": 4
        }
      ]
    },
    {
      "cell_type": "code",
      "metadata": {
        "colab": {
          "base_uri": "https://localhost:8080/",
          "height": 223
        },
        "id": "fgRiO_id16ka",
        "outputId": "f26752e6-4e2c-4fc3-f8e4-6c6d133eceb9"
      },
      "source": [
        "is_attack = df.attack.map(lambda a: 0 if a == 'normal' else 1)\n",
        "test_attack = test_df.attack.map(lambda a: 0 if a == 'normal' else 1)\n",
        "\n",
        "df['attack_flag'] = is_attack\n",
        "test_df['attack_flag'] = test_attack\n",
        "\n",
        "df.head()"
      ],
      "execution_count": null,
      "outputs": [
        {
          "output_type": "execute_result",
          "data": {
            "text/html": [
              "<div>\n",
              "<style scoped>\n",
              "    .dataframe tbody tr th:only-of-type {\n",
              "        vertical-align: middle;\n",
              "    }\n",
              "\n",
              "    .dataframe tbody tr th {\n",
              "        vertical-align: top;\n",
              "    }\n",
              "\n",
              "    .dataframe thead th {\n",
              "        text-align: right;\n",
              "    }\n",
              "</style>\n",
              "<table border=\"1\" class=\"dataframe\">\n",
              "  <thead>\n",
              "    <tr style=\"text-align: right;\">\n",
              "      <th></th>\n",
              "      <th>duration</th>\n",
              "      <th>protocol_type</th>\n",
              "      <th>service</th>\n",
              "      <th>flag</th>\n",
              "      <th>src_bytes</th>\n",
              "      <th>dst_bytes</th>\n",
              "      <th>land</th>\n",
              "      <th>wrong_fragment</th>\n",
              "      <th>urgent</th>\n",
              "      <th>hot</th>\n",
              "      <th>num_failed_logins</th>\n",
              "      <th>logged_in</th>\n",
              "      <th>num_compromised</th>\n",
              "      <th>root_shell</th>\n",
              "      <th>su_attempted</th>\n",
              "      <th>num_root</th>\n",
              "      <th>num_file_creations</th>\n",
              "      <th>num_shells</th>\n",
              "      <th>num_access_files</th>\n",
              "      <th>num_outbound_cmds</th>\n",
              "      <th>is_host_login</th>\n",
              "      <th>is_guest_login</th>\n",
              "      <th>count</th>\n",
              "      <th>srv_count</th>\n",
              "      <th>serror_rate</th>\n",
              "      <th>srv_serror_rate</th>\n",
              "      <th>rerror_rate</th>\n",
              "      <th>srv_rerror_rate</th>\n",
              "      <th>same_srv_rate</th>\n",
              "      <th>diff_srv_rate</th>\n",
              "      <th>srv_diff_host_rate</th>\n",
              "      <th>dst_host_count</th>\n",
              "      <th>dst_host_srv_count</th>\n",
              "      <th>dst_host_same_srv_rate</th>\n",
              "      <th>dst_host_diff_srv_rate</th>\n",
              "      <th>dst_host_same_src_port_rate</th>\n",
              "      <th>dst_host_srv_diff_host_rate</th>\n",
              "      <th>dst_host_serror_rate</th>\n",
              "      <th>dst_host_srv_serror_rate</th>\n",
              "      <th>dst_host_rerror_rate</th>\n",
              "      <th>dst_host_srv_rerror_rate</th>\n",
              "      <th>attack</th>\n",
              "      <th>level</th>\n",
              "      <th>attack_flag</th>\n",
              "    </tr>\n",
              "  </thead>\n",
              "  <tbody>\n",
              "    <tr>\n",
              "      <th>0</th>\n",
              "      <td>0</td>\n",
              "      <td>udp</td>\n",
              "      <td>other</td>\n",
              "      <td>SF</td>\n",
              "      <td>146</td>\n",
              "      <td>0</td>\n",
              "      <td>0</td>\n",
              "      <td>0</td>\n",
              "      <td>0</td>\n",
              "      <td>0</td>\n",
              "      <td>0</td>\n",
              "      <td>0</td>\n",
              "      <td>0</td>\n",
              "      <td>0</td>\n",
              "      <td>0</td>\n",
              "      <td>0</td>\n",
              "      <td>0</td>\n",
              "      <td>0</td>\n",
              "      <td>0</td>\n",
              "      <td>0</td>\n",
              "      <td>0</td>\n",
              "      <td>0</td>\n",
              "      <td>13</td>\n",
              "      <td>1</td>\n",
              "      <td>0.0</td>\n",
              "      <td>0.0</td>\n",
              "      <td>0.0</td>\n",
              "      <td>0.0</td>\n",
              "      <td>0.08</td>\n",
              "      <td>0.15</td>\n",
              "      <td>0.00</td>\n",
              "      <td>255</td>\n",
              "      <td>1</td>\n",
              "      <td>0.00</td>\n",
              "      <td>0.60</td>\n",
              "      <td>0.88</td>\n",
              "      <td>0.00</td>\n",
              "      <td>0.00</td>\n",
              "      <td>0.00</td>\n",
              "      <td>0.0</td>\n",
              "      <td>0.00</td>\n",
              "      <td>normal</td>\n",
              "      <td>15</td>\n",
              "      <td>0</td>\n",
              "    </tr>\n",
              "    <tr>\n",
              "      <th>1</th>\n",
              "      <td>0</td>\n",
              "      <td>tcp</td>\n",
              "      <td>private</td>\n",
              "      <td>S0</td>\n",
              "      <td>0</td>\n",
              "      <td>0</td>\n",
              "      <td>0</td>\n",
              "      <td>0</td>\n",
              "      <td>0</td>\n",
              "      <td>0</td>\n",
              "      <td>0</td>\n",
              "      <td>0</td>\n",
              "      <td>0</td>\n",
              "      <td>0</td>\n",
              "      <td>0</td>\n",
              "      <td>0</td>\n",
              "      <td>0</td>\n",
              "      <td>0</td>\n",
              "      <td>0</td>\n",
              "      <td>0</td>\n",
              "      <td>0</td>\n",
              "      <td>0</td>\n",
              "      <td>123</td>\n",
              "      <td>6</td>\n",
              "      <td>1.0</td>\n",
              "      <td>1.0</td>\n",
              "      <td>0.0</td>\n",
              "      <td>0.0</td>\n",
              "      <td>0.05</td>\n",
              "      <td>0.07</td>\n",
              "      <td>0.00</td>\n",
              "      <td>255</td>\n",
              "      <td>26</td>\n",
              "      <td>0.10</td>\n",
              "      <td>0.05</td>\n",
              "      <td>0.00</td>\n",
              "      <td>0.00</td>\n",
              "      <td>1.00</td>\n",
              "      <td>1.00</td>\n",
              "      <td>0.0</td>\n",
              "      <td>0.00</td>\n",
              "      <td>neptune</td>\n",
              "      <td>19</td>\n",
              "      <td>1</td>\n",
              "    </tr>\n",
              "    <tr>\n",
              "      <th>2</th>\n",
              "      <td>0</td>\n",
              "      <td>tcp</td>\n",
              "      <td>http</td>\n",
              "      <td>SF</td>\n",
              "      <td>232</td>\n",
              "      <td>8153</td>\n",
              "      <td>0</td>\n",
              "      <td>0</td>\n",
              "      <td>0</td>\n",
              "      <td>0</td>\n",
              "      <td>0</td>\n",
              "      <td>1</td>\n",
              "      <td>0</td>\n",
              "      <td>0</td>\n",
              "      <td>0</td>\n",
              "      <td>0</td>\n",
              "      <td>0</td>\n",
              "      <td>0</td>\n",
              "      <td>0</td>\n",
              "      <td>0</td>\n",
              "      <td>0</td>\n",
              "      <td>0</td>\n",
              "      <td>5</td>\n",
              "      <td>5</td>\n",
              "      <td>0.2</td>\n",
              "      <td>0.2</td>\n",
              "      <td>0.0</td>\n",
              "      <td>0.0</td>\n",
              "      <td>1.00</td>\n",
              "      <td>0.00</td>\n",
              "      <td>0.00</td>\n",
              "      <td>30</td>\n",
              "      <td>255</td>\n",
              "      <td>1.00</td>\n",
              "      <td>0.00</td>\n",
              "      <td>0.03</td>\n",
              "      <td>0.04</td>\n",
              "      <td>0.03</td>\n",
              "      <td>0.01</td>\n",
              "      <td>0.0</td>\n",
              "      <td>0.01</td>\n",
              "      <td>normal</td>\n",
              "      <td>21</td>\n",
              "      <td>0</td>\n",
              "    </tr>\n",
              "    <tr>\n",
              "      <th>3</th>\n",
              "      <td>0</td>\n",
              "      <td>tcp</td>\n",
              "      <td>http</td>\n",
              "      <td>SF</td>\n",
              "      <td>199</td>\n",
              "      <td>420</td>\n",
              "      <td>0</td>\n",
              "      <td>0</td>\n",
              "      <td>0</td>\n",
              "      <td>0</td>\n",
              "      <td>0</td>\n",
              "      <td>1</td>\n",
              "      <td>0</td>\n",
              "      <td>0</td>\n",
              "      <td>0</td>\n",
              "      <td>0</td>\n",
              "      <td>0</td>\n",
              "      <td>0</td>\n",
              "      <td>0</td>\n",
              "      <td>0</td>\n",
              "      <td>0</td>\n",
              "      <td>0</td>\n",
              "      <td>30</td>\n",
              "      <td>32</td>\n",
              "      <td>0.0</td>\n",
              "      <td>0.0</td>\n",
              "      <td>0.0</td>\n",
              "      <td>0.0</td>\n",
              "      <td>1.00</td>\n",
              "      <td>0.00</td>\n",
              "      <td>0.09</td>\n",
              "      <td>255</td>\n",
              "      <td>255</td>\n",
              "      <td>1.00</td>\n",
              "      <td>0.00</td>\n",
              "      <td>0.00</td>\n",
              "      <td>0.00</td>\n",
              "      <td>0.00</td>\n",
              "      <td>0.00</td>\n",
              "      <td>0.0</td>\n",
              "      <td>0.00</td>\n",
              "      <td>normal</td>\n",
              "      <td>21</td>\n",
              "      <td>0</td>\n",
              "    </tr>\n",
              "    <tr>\n",
              "      <th>4</th>\n",
              "      <td>0</td>\n",
              "      <td>tcp</td>\n",
              "      <td>private</td>\n",
              "      <td>REJ</td>\n",
              "      <td>0</td>\n",
              "      <td>0</td>\n",
              "      <td>0</td>\n",
              "      <td>0</td>\n",
              "      <td>0</td>\n",
              "      <td>0</td>\n",
              "      <td>0</td>\n",
              "      <td>0</td>\n",
              "      <td>0</td>\n",
              "      <td>0</td>\n",
              "      <td>0</td>\n",
              "      <td>0</td>\n",
              "      <td>0</td>\n",
              "      <td>0</td>\n",
              "      <td>0</td>\n",
              "      <td>0</td>\n",
              "      <td>0</td>\n",
              "      <td>0</td>\n",
              "      <td>121</td>\n",
              "      <td>19</td>\n",
              "      <td>0.0</td>\n",
              "      <td>0.0</td>\n",
              "      <td>1.0</td>\n",
              "      <td>1.0</td>\n",
              "      <td>0.16</td>\n",
              "      <td>0.06</td>\n",
              "      <td>0.00</td>\n",
              "      <td>255</td>\n",
              "      <td>19</td>\n",
              "      <td>0.07</td>\n",
              "      <td>0.07</td>\n",
              "      <td>0.00</td>\n",
              "      <td>0.00</td>\n",
              "      <td>0.00</td>\n",
              "      <td>0.00</td>\n",
              "      <td>1.0</td>\n",
              "      <td>1.00</td>\n",
              "      <td>neptune</td>\n",
              "      <td>21</td>\n",
              "      <td>1</td>\n",
              "    </tr>\n",
              "  </tbody>\n",
              "</table>\n",
              "</div>"
            ],
            "text/plain": [
              "   duration protocol_type  service  ...   attack  level  attack_flag\n",
              "0         0           udp    other  ...   normal     15            0\n",
              "1         0           tcp  private  ...  neptune     19            1\n",
              "2         0           tcp     http  ...   normal     21            0\n",
              "3         0           tcp     http  ...   normal     21            0\n",
              "4         0           tcp  private  ...  neptune     21            1\n",
              "\n",
              "[5 rows x 44 columns]"
            ]
          },
          "metadata": {
            "tags": []
          },
          "execution_count": 5
        }
      ]
    },
    {
      "cell_type": "code",
      "metadata": {
        "colab": {
          "base_uri": "https://localhost:8080/",
          "height": 223
        },
        "id": "_fHt-zKE2gkX",
        "outputId": "067a9399-1449-4262-fb79-c735df14cdcb"
      },
      "source": [
        "dos_attacks = ['apache2','back','land','neptune','mailbomb','pod','processtable','smurf','teardrop','udpstorm','worm']\n",
        "probe_attacks = ['ipsweep','mscan','nmap','portsweep','saint','satan']\n",
        "privilege_attacks = ['buffer_overflow','loadmdoule','perl','ps','rootkit','sqlattack','xterm']\n",
        "access_attacks = ['ftp_write','guess_passwd','http_tunnel','imap','multihop','named','phf','sendmail','snmpgetattack','snmpguess','spy','warezclient','warezmaster','xclock','xsnoop']\n",
        "\n",
        "# we will use these for plotting below\n",
        "attack_labels = ['Normal','DoS','Probe','Privilege','Access']\n",
        "\n",
        "# helper function to pass to data frame mapping\n",
        "def map_attack(attack):\n",
        "    if attack in dos_attacks:\n",
        "        # dos_attacks map to 1\n",
        "        attack_type = 1\n",
        "    elif attack in probe_attacks:\n",
        "        # probe_attacks mapt to 2\n",
        "        attack_type = 2\n",
        "    elif attack in privilege_attacks:\n",
        "        # privilege escalation attacks map to 3\n",
        "        attack_type = 3\n",
        "    elif attack in access_attacks:\n",
        "        # remote access attacks map to 4\n",
        "        attack_type = 4\n",
        "    else:\n",
        "        # normal maps to 0\n",
        "        attack_type = 0\n",
        "        \n",
        "    return attack_type\n",
        "\n",
        "# map the data and join to the data set\n",
        "attack_map = df.attack.apply(map_attack)\n",
        "df['attack_map'] = attack_map\n",
        "\n",
        "test_attack_map = test_df.attack.apply(map_attack)\n",
        "test_df['attack_map'] = test_attack_map\n",
        "\n",
        "# view the result\n",
        "df.head()"
      ],
      "execution_count": null,
      "outputs": [
        {
          "output_type": "execute_result",
          "data": {
            "text/html": [
              "<div>\n",
              "<style scoped>\n",
              "    .dataframe tbody tr th:only-of-type {\n",
              "        vertical-align: middle;\n",
              "    }\n",
              "\n",
              "    .dataframe tbody tr th {\n",
              "        vertical-align: top;\n",
              "    }\n",
              "\n",
              "    .dataframe thead th {\n",
              "        text-align: right;\n",
              "    }\n",
              "</style>\n",
              "<table border=\"1\" class=\"dataframe\">\n",
              "  <thead>\n",
              "    <tr style=\"text-align: right;\">\n",
              "      <th></th>\n",
              "      <th>duration</th>\n",
              "      <th>protocol_type</th>\n",
              "      <th>service</th>\n",
              "      <th>flag</th>\n",
              "      <th>src_bytes</th>\n",
              "      <th>dst_bytes</th>\n",
              "      <th>land</th>\n",
              "      <th>wrong_fragment</th>\n",
              "      <th>urgent</th>\n",
              "      <th>hot</th>\n",
              "      <th>num_failed_logins</th>\n",
              "      <th>logged_in</th>\n",
              "      <th>num_compromised</th>\n",
              "      <th>root_shell</th>\n",
              "      <th>su_attempted</th>\n",
              "      <th>num_root</th>\n",
              "      <th>num_file_creations</th>\n",
              "      <th>num_shells</th>\n",
              "      <th>num_access_files</th>\n",
              "      <th>num_outbound_cmds</th>\n",
              "      <th>is_host_login</th>\n",
              "      <th>is_guest_login</th>\n",
              "      <th>count</th>\n",
              "      <th>srv_count</th>\n",
              "      <th>serror_rate</th>\n",
              "      <th>srv_serror_rate</th>\n",
              "      <th>rerror_rate</th>\n",
              "      <th>srv_rerror_rate</th>\n",
              "      <th>same_srv_rate</th>\n",
              "      <th>diff_srv_rate</th>\n",
              "      <th>srv_diff_host_rate</th>\n",
              "      <th>dst_host_count</th>\n",
              "      <th>dst_host_srv_count</th>\n",
              "      <th>dst_host_same_srv_rate</th>\n",
              "      <th>dst_host_diff_srv_rate</th>\n",
              "      <th>dst_host_same_src_port_rate</th>\n",
              "      <th>dst_host_srv_diff_host_rate</th>\n",
              "      <th>dst_host_serror_rate</th>\n",
              "      <th>dst_host_srv_serror_rate</th>\n",
              "      <th>dst_host_rerror_rate</th>\n",
              "      <th>dst_host_srv_rerror_rate</th>\n",
              "      <th>attack</th>\n",
              "      <th>level</th>\n",
              "      <th>attack_flag</th>\n",
              "      <th>attack_map</th>\n",
              "    </tr>\n",
              "  </thead>\n",
              "  <tbody>\n",
              "    <tr>\n",
              "      <th>0</th>\n",
              "      <td>0</td>\n",
              "      <td>udp</td>\n",
              "      <td>other</td>\n",
              "      <td>SF</td>\n",
              "      <td>146</td>\n",
              "      <td>0</td>\n",
              "      <td>0</td>\n",
              "      <td>0</td>\n",
              "      <td>0</td>\n",
              "      <td>0</td>\n",
              "      <td>0</td>\n",
              "      <td>0</td>\n",
              "      <td>0</td>\n",
              "      <td>0</td>\n",
              "      <td>0</td>\n",
              "      <td>0</td>\n",
              "      <td>0</td>\n",
              "      <td>0</td>\n",
              "      <td>0</td>\n",
              "      <td>0</td>\n",
              "      <td>0</td>\n",
              "      <td>0</td>\n",
              "      <td>13</td>\n",
              "      <td>1</td>\n",
              "      <td>0.0</td>\n",
              "      <td>0.0</td>\n",
              "      <td>0.0</td>\n",
              "      <td>0.0</td>\n",
              "      <td>0.08</td>\n",
              "      <td>0.15</td>\n",
              "      <td>0.00</td>\n",
              "      <td>255</td>\n",
              "      <td>1</td>\n",
              "      <td>0.00</td>\n",
              "      <td>0.60</td>\n",
              "      <td>0.88</td>\n",
              "      <td>0.00</td>\n",
              "      <td>0.00</td>\n",
              "      <td>0.00</td>\n",
              "      <td>0.0</td>\n",
              "      <td>0.00</td>\n",
              "      <td>normal</td>\n",
              "      <td>15</td>\n",
              "      <td>0</td>\n",
              "      <td>0</td>\n",
              "    </tr>\n",
              "    <tr>\n",
              "      <th>1</th>\n",
              "      <td>0</td>\n",
              "      <td>tcp</td>\n",
              "      <td>private</td>\n",
              "      <td>S0</td>\n",
              "      <td>0</td>\n",
              "      <td>0</td>\n",
              "      <td>0</td>\n",
              "      <td>0</td>\n",
              "      <td>0</td>\n",
              "      <td>0</td>\n",
              "      <td>0</td>\n",
              "      <td>0</td>\n",
              "      <td>0</td>\n",
              "      <td>0</td>\n",
              "      <td>0</td>\n",
              "      <td>0</td>\n",
              "      <td>0</td>\n",
              "      <td>0</td>\n",
              "      <td>0</td>\n",
              "      <td>0</td>\n",
              "      <td>0</td>\n",
              "      <td>0</td>\n",
              "      <td>123</td>\n",
              "      <td>6</td>\n",
              "      <td>1.0</td>\n",
              "      <td>1.0</td>\n",
              "      <td>0.0</td>\n",
              "      <td>0.0</td>\n",
              "      <td>0.05</td>\n",
              "      <td>0.07</td>\n",
              "      <td>0.00</td>\n",
              "      <td>255</td>\n",
              "      <td>26</td>\n",
              "      <td>0.10</td>\n",
              "      <td>0.05</td>\n",
              "      <td>0.00</td>\n",
              "      <td>0.00</td>\n",
              "      <td>1.00</td>\n",
              "      <td>1.00</td>\n",
              "      <td>0.0</td>\n",
              "      <td>0.00</td>\n",
              "      <td>neptune</td>\n",
              "      <td>19</td>\n",
              "      <td>1</td>\n",
              "      <td>1</td>\n",
              "    </tr>\n",
              "    <tr>\n",
              "      <th>2</th>\n",
              "      <td>0</td>\n",
              "      <td>tcp</td>\n",
              "      <td>http</td>\n",
              "      <td>SF</td>\n",
              "      <td>232</td>\n",
              "      <td>8153</td>\n",
              "      <td>0</td>\n",
              "      <td>0</td>\n",
              "      <td>0</td>\n",
              "      <td>0</td>\n",
              "      <td>0</td>\n",
              "      <td>1</td>\n",
              "      <td>0</td>\n",
              "      <td>0</td>\n",
              "      <td>0</td>\n",
              "      <td>0</td>\n",
              "      <td>0</td>\n",
              "      <td>0</td>\n",
              "      <td>0</td>\n",
              "      <td>0</td>\n",
              "      <td>0</td>\n",
              "      <td>0</td>\n",
              "      <td>5</td>\n",
              "      <td>5</td>\n",
              "      <td>0.2</td>\n",
              "      <td>0.2</td>\n",
              "      <td>0.0</td>\n",
              "      <td>0.0</td>\n",
              "      <td>1.00</td>\n",
              "      <td>0.00</td>\n",
              "      <td>0.00</td>\n",
              "      <td>30</td>\n",
              "      <td>255</td>\n",
              "      <td>1.00</td>\n",
              "      <td>0.00</td>\n",
              "      <td>0.03</td>\n",
              "      <td>0.04</td>\n",
              "      <td>0.03</td>\n",
              "      <td>0.01</td>\n",
              "      <td>0.0</td>\n",
              "      <td>0.01</td>\n",
              "      <td>normal</td>\n",
              "      <td>21</td>\n",
              "      <td>0</td>\n",
              "      <td>0</td>\n",
              "    </tr>\n",
              "    <tr>\n",
              "      <th>3</th>\n",
              "      <td>0</td>\n",
              "      <td>tcp</td>\n",
              "      <td>http</td>\n",
              "      <td>SF</td>\n",
              "      <td>199</td>\n",
              "      <td>420</td>\n",
              "      <td>0</td>\n",
              "      <td>0</td>\n",
              "      <td>0</td>\n",
              "      <td>0</td>\n",
              "      <td>0</td>\n",
              "      <td>1</td>\n",
              "      <td>0</td>\n",
              "      <td>0</td>\n",
              "      <td>0</td>\n",
              "      <td>0</td>\n",
              "      <td>0</td>\n",
              "      <td>0</td>\n",
              "      <td>0</td>\n",
              "      <td>0</td>\n",
              "      <td>0</td>\n",
              "      <td>0</td>\n",
              "      <td>30</td>\n",
              "      <td>32</td>\n",
              "      <td>0.0</td>\n",
              "      <td>0.0</td>\n",
              "      <td>0.0</td>\n",
              "      <td>0.0</td>\n",
              "      <td>1.00</td>\n",
              "      <td>0.00</td>\n",
              "      <td>0.09</td>\n",
              "      <td>255</td>\n",
              "      <td>255</td>\n",
              "      <td>1.00</td>\n",
              "      <td>0.00</td>\n",
              "      <td>0.00</td>\n",
              "      <td>0.00</td>\n",
              "      <td>0.00</td>\n",
              "      <td>0.00</td>\n",
              "      <td>0.0</td>\n",
              "      <td>0.00</td>\n",
              "      <td>normal</td>\n",
              "      <td>21</td>\n",
              "      <td>0</td>\n",
              "      <td>0</td>\n",
              "    </tr>\n",
              "    <tr>\n",
              "      <th>4</th>\n",
              "      <td>0</td>\n",
              "      <td>tcp</td>\n",
              "      <td>private</td>\n",
              "      <td>REJ</td>\n",
              "      <td>0</td>\n",
              "      <td>0</td>\n",
              "      <td>0</td>\n",
              "      <td>0</td>\n",
              "      <td>0</td>\n",
              "      <td>0</td>\n",
              "      <td>0</td>\n",
              "      <td>0</td>\n",
              "      <td>0</td>\n",
              "      <td>0</td>\n",
              "      <td>0</td>\n",
              "      <td>0</td>\n",
              "      <td>0</td>\n",
              "      <td>0</td>\n",
              "      <td>0</td>\n",
              "      <td>0</td>\n",
              "      <td>0</td>\n",
              "      <td>0</td>\n",
              "      <td>121</td>\n",
              "      <td>19</td>\n",
              "      <td>0.0</td>\n",
              "      <td>0.0</td>\n",
              "      <td>1.0</td>\n",
              "      <td>1.0</td>\n",
              "      <td>0.16</td>\n",
              "      <td>0.06</td>\n",
              "      <td>0.00</td>\n",
              "      <td>255</td>\n",
              "      <td>19</td>\n",
              "      <td>0.07</td>\n",
              "      <td>0.07</td>\n",
              "      <td>0.00</td>\n",
              "      <td>0.00</td>\n",
              "      <td>0.00</td>\n",
              "      <td>0.00</td>\n",
              "      <td>1.0</td>\n",
              "      <td>1.00</td>\n",
              "      <td>neptune</td>\n",
              "      <td>21</td>\n",
              "      <td>1</td>\n",
              "      <td>1</td>\n",
              "    </tr>\n",
              "  </tbody>\n",
              "</table>\n",
              "</div>"
            ],
            "text/plain": [
              "   duration protocol_type  service  ... level  attack_flag  attack_map\n",
              "0         0           udp    other  ...    15            0           0\n",
              "1         0           tcp  private  ...    19            1           1\n",
              "2         0           tcp     http  ...    21            0           0\n",
              "3         0           tcp     http  ...    21            0           0\n",
              "4         0           tcp  private  ...    21            1           1\n",
              "\n",
              "[5 rows x 45 columns]"
            ]
          },
          "metadata": {
            "tags": []
          },
          "execution_count": 6
        }
      ]
    },
    {
      "cell_type": "code",
      "metadata": {
        "colab": {
          "base_uri": "https://localhost:8080/",
          "height": 788
        },
        "id": "SvgU75ai3_OS",
        "outputId": "762a644a-02cb-4671-b501-bc5870ce063b"
      },
      "source": [
        "attack_vs_protocol = pd.crosstab(df.attack, df.protocol_type)\n",
        "attack_vs_protocol"
      ],
      "execution_count": null,
      "outputs": [
        {
          "output_type": "execute_result",
          "data": {
            "text/html": [
              "<div>\n",
              "<style scoped>\n",
              "    .dataframe tbody tr th:only-of-type {\n",
              "        vertical-align: middle;\n",
              "    }\n",
              "\n",
              "    .dataframe tbody tr th {\n",
              "        vertical-align: top;\n",
              "    }\n",
              "\n",
              "    .dataframe thead th {\n",
              "        text-align: right;\n",
              "    }\n",
              "</style>\n",
              "<table border=\"1\" class=\"dataframe\">\n",
              "  <thead>\n",
              "    <tr style=\"text-align: right;\">\n",
              "      <th>protocol_type</th>\n",
              "      <th>icmp</th>\n",
              "      <th>tcp</th>\n",
              "      <th>udp</th>\n",
              "    </tr>\n",
              "    <tr>\n",
              "      <th>attack</th>\n",
              "      <th></th>\n",
              "      <th></th>\n",
              "      <th></th>\n",
              "    </tr>\n",
              "  </thead>\n",
              "  <tbody>\n",
              "    <tr>\n",
              "      <th>back</th>\n",
              "      <td>0</td>\n",
              "      <td>956</td>\n",
              "      <td>0</td>\n",
              "    </tr>\n",
              "    <tr>\n",
              "      <th>buffer_overflow</th>\n",
              "      <td>0</td>\n",
              "      <td>30</td>\n",
              "      <td>0</td>\n",
              "    </tr>\n",
              "    <tr>\n",
              "      <th>ftp_write</th>\n",
              "      <td>0</td>\n",
              "      <td>8</td>\n",
              "      <td>0</td>\n",
              "    </tr>\n",
              "    <tr>\n",
              "      <th>guess_passwd</th>\n",
              "      <td>0</td>\n",
              "      <td>53</td>\n",
              "      <td>0</td>\n",
              "    </tr>\n",
              "    <tr>\n",
              "      <th>imap</th>\n",
              "      <td>0</td>\n",
              "      <td>11</td>\n",
              "      <td>0</td>\n",
              "    </tr>\n",
              "    <tr>\n",
              "      <th>ipsweep</th>\n",
              "      <td>3117</td>\n",
              "      <td>482</td>\n",
              "      <td>0</td>\n",
              "    </tr>\n",
              "    <tr>\n",
              "      <th>land</th>\n",
              "      <td>0</td>\n",
              "      <td>18</td>\n",
              "      <td>0</td>\n",
              "    </tr>\n",
              "    <tr>\n",
              "      <th>loadmodule</th>\n",
              "      <td>0</td>\n",
              "      <td>9</td>\n",
              "      <td>0</td>\n",
              "    </tr>\n",
              "    <tr>\n",
              "      <th>multihop</th>\n",
              "      <td>0</td>\n",
              "      <td>7</td>\n",
              "      <td>0</td>\n",
              "    </tr>\n",
              "    <tr>\n",
              "      <th>neptune</th>\n",
              "      <td>0</td>\n",
              "      <td>41214</td>\n",
              "      <td>0</td>\n",
              "    </tr>\n",
              "    <tr>\n",
              "      <th>nmap</th>\n",
              "      <td>981</td>\n",
              "      <td>265</td>\n",
              "      <td>247</td>\n",
              "    </tr>\n",
              "    <tr>\n",
              "      <th>normal</th>\n",
              "      <td>1309</td>\n",
              "      <td>53599</td>\n",
              "      <td>12434</td>\n",
              "    </tr>\n",
              "    <tr>\n",
              "      <th>perl</th>\n",
              "      <td>0</td>\n",
              "      <td>3</td>\n",
              "      <td>0</td>\n",
              "    </tr>\n",
              "    <tr>\n",
              "      <th>phf</th>\n",
              "      <td>0</td>\n",
              "      <td>4</td>\n",
              "      <td>0</td>\n",
              "    </tr>\n",
              "    <tr>\n",
              "      <th>pod</th>\n",
              "      <td>201</td>\n",
              "      <td>0</td>\n",
              "      <td>0</td>\n",
              "    </tr>\n",
              "    <tr>\n",
              "      <th>portsweep</th>\n",
              "      <td>5</td>\n",
              "      <td>2926</td>\n",
              "      <td>0</td>\n",
              "    </tr>\n",
              "    <tr>\n",
              "      <th>rootkit</th>\n",
              "      <td>0</td>\n",
              "      <td>7</td>\n",
              "      <td>3</td>\n",
              "    </tr>\n",
              "    <tr>\n",
              "      <th>satan</th>\n",
              "      <td>32</td>\n",
              "      <td>2184</td>\n",
              "      <td>1417</td>\n",
              "    </tr>\n",
              "    <tr>\n",
              "      <th>smurf</th>\n",
              "      <td>2646</td>\n",
              "      <td>0</td>\n",
              "      <td>0</td>\n",
              "    </tr>\n",
              "    <tr>\n",
              "      <th>spy</th>\n",
              "      <td>0</td>\n",
              "      <td>2</td>\n",
              "      <td>0</td>\n",
              "    </tr>\n",
              "    <tr>\n",
              "      <th>teardrop</th>\n",
              "      <td>0</td>\n",
              "      <td>0</td>\n",
              "      <td>892</td>\n",
              "    </tr>\n",
              "    <tr>\n",
              "      <th>warezclient</th>\n",
              "      <td>0</td>\n",
              "      <td>890</td>\n",
              "      <td>0</td>\n",
              "    </tr>\n",
              "    <tr>\n",
              "      <th>warezmaster</th>\n",
              "      <td>0</td>\n",
              "      <td>20</td>\n",
              "      <td>0</td>\n",
              "    </tr>\n",
              "  </tbody>\n",
              "</table>\n",
              "</div>"
            ],
            "text/plain": [
              "protocol_type    icmp    tcp    udp\n",
              "attack                             \n",
              "back                0    956      0\n",
              "buffer_overflow     0     30      0\n",
              "ftp_write           0      8      0\n",
              "guess_passwd        0     53      0\n",
              "imap                0     11      0\n",
              "ipsweep          3117    482      0\n",
              "land                0     18      0\n",
              "loadmodule          0      9      0\n",
              "multihop            0      7      0\n",
              "neptune             0  41214      0\n",
              "nmap              981    265    247\n",
              "normal           1309  53599  12434\n",
              "perl                0      3      0\n",
              "phf                 0      4      0\n",
              "pod               201      0      0\n",
              "portsweep           5   2926      0\n",
              "rootkit             0      7      3\n",
              "satan              32   2184   1417\n",
              "smurf            2646      0      0\n",
              "spy                 0      2      0\n",
              "teardrop            0      0    892\n",
              "warezclient         0    890      0\n",
              "warezmaster         0     20      0"
            ]
          },
          "metadata": {
            "tags": []
          },
          "execution_count": 8
        }
      ]
    },
    {
      "cell_type": "code",
      "metadata": {
        "id": "6cd4p9HH4ozJ"
      },
      "source": [
        "def bake_pies(data_list,labels):\n",
        "    list_length = len(data_list)\n",
        "    \n",
        "    color_list = sns.color_palette()\n",
        "    color_cycle = itertools.cycle(color_list)\n",
        "    cdict = {}\n",
        "    \n",
        "    fig, axs = plt.subplots(1, list_length,figsize=(18,10), tight_layout=False)\n",
        "    plt.subplots_adjust(wspace=1/list_length)\n",
        "    \n",
        "    for count, data_set in enumerate(data_list): \n",
        "        \n",
        "      \n",
        "        for num, value in enumerate(np.unique(data_set.index)):\n",
        "            if value not in cdict:\n",
        "                cdict[value] = next(color_cycle)\n",
        "       \n",
        "        \n",
        "        wedges,texts = axs[count].pie(data_set,\n",
        "                           colors=[cdict[v] for v in data_set.index])\n",
        "\n",
        "        \n",
        "        axs[count].legend(wedges, data_set.index,\n",
        "                           title=\"Flags\",\n",
        "                           loc=\"center left\",\n",
        "                           bbox_to_anchor=(1, 0, 0.5, 1))\n",
        "        \n",
        "        axs[count].set_title(labels[count])\n",
        "        \n",
        "    return axs"
      ],
      "execution_count": null,
      "outputs": []
    },
    {
      "cell_type": "code",
      "metadata": {
        "colab": {
          "base_uri": "https://localhost:8080/",
          "height": 389
        },
        "id": "2PAPZ60e57ih",
        "outputId": "845d232c-f046-4700-acff-849c356784c9"
      },
      "source": [
        "icmp_attacks = attack_vs_protocol.icmp\n",
        "tcp_attacks = attack_vs_protocol.tcp\n",
        "udp_attacks = attack_vs_protocol.udp\n",
        "\n",
        "\n",
        "bake_pies([icmp_attacks, tcp_attacks, udp_attacks],['icmp','tcp','udp'])\n",
        "plt.show()"
      ],
      "execution_count": null,
      "outputs": [
        {
          "output_type": "display_data",
          "data": {
            "image/png": "[encoded data removed]",
            "text/plain": [
              "<Figure size 1296x720 with 3 Axes>"
            ]
          },
          "metadata": {
            "tags": []
          }
        }
      ]
    },
    {
      "cell_type": "code",
      "metadata": {
        "colab": {
          "base_uri": "https://localhost:8080/",
          "height": 449
        },
        "id": "nsrgeioH6ud9",
        "outputId": "6c79ad96-9cb1-40de-cb8c-2decfbf3216a"
      },
      "source": [
        "normal_flags = df.loc[df.attack_flag == 0].flag.value_counts()\n",
        "attack_flags = df.loc[df.attack_flag == 1].flag.value_counts()\n",
        "\n",
        "\n",
        "flag_axs = bake_pies([normal_flags, attack_flags], ['normal','attack'])        \n",
        "plt.show()"
      ],
      "execution_count": null,
      "outputs": [
        {
          "output_type": "display_data",
          "data": {
            "image/png": "[encoded data removed]",
            "text/plain": [
              "<Figure size 1296x720 with 2 Axes>"
            ]
          },
          "metadata": {
            "tags": []
          }
        }
      ]
    },
    {
      "cell_type": "code",
      "metadata": {
        "colab": {
          "base_uri": "https://localhost:8080/",
          "height": 1000
        },
        "id": "B-cZ2O8L7HQw",
        "outputId": "19cf3646-aebd-4dd9-a20f-f59f832d74be"
      },
      "source": [
        "normal_services = df.loc[df.attack_flag == 0].service.value_counts()\n",
        "attack_services = df.loc[df.attack_flag == 1].service.value_counts()\n",
        "\n",
        "\n",
        "service_axs = bake_pies([normal_services, attack_services], ['normal','attack'])        \n",
        "plt.show()"
      ],
      "execution_count": null,
      "outputs": [
        {
          "output_type": "display_data",
          "data": {
            "image/png": "[encoded data removed]",
            "text/plain": [
              "<Figure size 1296x720 with 2 Axes>"
            ]
          },
          "metadata": {
            "tags": []
          }
        }
      ]
    },
    {
      "cell_type": "code",
      "metadata": {
        "id": "XvMU_EPR7lp0"
      },
      "source": [
        "features_to_encode = ['protocol_type', 'service', 'flag']\n",
        "encoded = pd.get_dummies(df[features_to_encode])\n",
        "test_encoded_base = pd.get_dummies(test_df[features_to_encode])\n",
        "\n",
        "\n",
        "test_index = np.arange(len(test_df.index))\n",
        "column_diffs = list(set(encoded.columns.values)-set(test_encoded_base.columns.values))\n",
        "\n",
        "diff_df = pd.DataFrame(0, index=test_index, columns=column_diffs)\n",
        "\n",
        "\n",
        "column_order = encoded.columns.to_list()\n",
        "\n",
        "\n",
        "test_encoded_temp = test_encoded_base.join(diff_df)\n",
        "\n",
        "\n",
        "test_final = test_encoded_temp[column_order].fillna(0)\n",
        "\n",
        "\n",
        "numeric_features = ['duration', 'src_bytes', 'dst_bytes']\n",
        "\n",
        "\n",
        "to_fit = encoded.join(df[numeric_features])\n",
        "test_set = test_final.join(test_df[numeric_features])"
      ],
      "execution_count": null,
      "outputs": []
    },
    {
      "cell_type": "code",
      "metadata": {
        "id": "7aPkE02y8SXB"
      },
      "source": [
        "binary_y = df['attack_flag']\n",
        "multi_y = df['attack_map']\n",
        "\n",
        "test_binary_y = test_df['attack_flag']\n",
        "test_multi_y = test_df['attack_map']\n",
        "\n",
        "\n",
        "binary_train_X, binary_val_X, binary_train_y, binary_val_y = train_test_split(to_fit, binary_y, test_size=0.6)\n",
        "multi_train_X, multi_val_X, multi_train_y, multi_val_y = train_test_split(to_fit, multi_y, test_size = 0.6)"
      ],
      "execution_count": null,
      "outputs": []
    },
    {
      "cell_type": "code",
      "metadata": {
        "colab": {
          "base_uri": "https://localhost:8080/"
        },
        "id": "7dgXcRxO9aFj",
        "outputId": "e342cdfb-3ceb-49e8-fffa-6498e08ee49a"
      },
      "source": [
        "binary_model = RandomForestClassifier()\n",
        "binary_model.fit(binary_train_X, binary_train_y)\n",
        "binary_predictions = binary_model.predict(binary_val_X)\n",
        " \n",
        " \n",
        "base_rf_score = accuracy_score(binary_predictions,binary_val_y)\n",
        "base_rf_score"
      ],
      "execution_count": null,
      "outputs": [
        {
          "output_type": "execute_result",
          "data": {
            "text/plain": [
              "0.9929482430143945"
            ]
          },
          "metadata": {
            "tags": []
          },
          "execution_count": 9
        }
      ]
    },
    {
      "cell_type": "code",
      "metadata": {
        "id": "eCWYeCfM9td_"
      },
      "source": [
        "models = [\n",
        "    RandomForestClassifier(),\n",
        "    LogisticRegression(max_iter=250),\n",
        "    KNeighborsClassifier(),\n",
        "]\n",
        "\n",
        "# an empty list to capture the performance of each model\n",
        "model_comps = []\n",
        "\n",
        "# walk through the models and populate our list\n",
        "for model in models:\n",
        "    model_name = model.__class__.__name__\n",
        "    accuracies = cross_val_score(model, binary_train_X, binary_train_y, scoring='accuracy')\n",
        "    for count, accuracy in enumerate(accuracies):\n",
        "        model_comps.append((model_name, count, accuracy))"
      ],
      "execution_count": null,
      "outputs": []
    },
    {
      "cell_type": "code",
      "metadata": {
        "colab": {
          "base_uri": "https://localhost:8080/",
          "height": 363
        },
        "id": "PnGaSQm4AQNh",
        "outputId": "16c04d3a-e1b6-49ab-cfdb-ffc5abde10b7"
      },
      "source": [
        "result_df = pd.DataFrame(model_comps, columns=['model_name', 'count', 'accuracy'])\n",
        "result_df.pivot(index='count',columns='model_name',values='accuracy').boxplot(rot=45)"
      ],
      "execution_count": null,
      "outputs": [
        {
          "output_type": "execute_result",
          "data": {
            "text/plain": [
              "<matplotlib.axes._subplots.AxesSubplot at 0x7fa946982490>"
            ]
          },
          "metadata": {
            "tags": []
          },
          "execution_count": 11
        },
        {
          "output_type": "display_data",
          "data": {
            "image/png": "[encoded data removed]",
            "text/plain": [
              "<Figure size 432x288 with 1 Axes>"
            ]
          },
          "metadata": {
            "tags": [],
            "needs_background": "light"
          }
        }
      ]
    },
    {
      "cell_type": "code",
      "metadata": {
        "id": "EUS0dDrrAkWQ"
      },
      "source": [
        "\n",
        "def add_predictions(data_set,predictions,y):\n",
        "    prediction_series = pd.Series(predictions, index=y.index)\n",
        "\n",
        "    # we need to add the predicted and actual outcomes to the data\n",
        "    predicted_vs_actual = data_set.assign(predicted=prediction_series)\n",
        "    original_data = predicted_vs_actual.assign(actual=y).dropna()\n",
        "    conf_matrix = confusion_matrix(original_data['actual'], \n",
        "                                   original_data['predicted'])\n",
        "    \n",
        "    # capture rows with failed predictions\n",
        "    base_errors = original_data[original_data['actual'] != original_data['predicted']]\n",
        "    \n",
        "    # drop columns with no value\n",
        "    non_zeros = base_errors.loc[:,(base_errors != 0).any(axis=0)]\n",
        "\n",
        "    # idetify the type of error\n",
        "    false_positives = non_zeros.loc[non_zeros.actual==0]\n",
        "    false_negatives = non_zeros.loc[non_zeros.actual==1]\n",
        "\n",
        "    # put everything into an object\n",
        "    prediction_data = {'data': original_data,\n",
        "                       'confusion_matrix': conf_matrix,\n",
        "                       'errors': base_errors,\n",
        "                       'non_zeros': non_zeros,\n",
        "                       'false_positives': false_positives,\n",
        "                       'false_negatives': false_negatives}\n",
        "    \n",
        "    return prediction_data\n",
        "    "
      ],
      "execution_count": null,
      "outputs": []
    },
    {
      "cell_type": "code",
      "metadata": {
        "colab": {
          "base_uri": "https://localhost:8080/",
          "height": 285
        },
        "id": "tdqh3X_MBGT2",
        "outputId": "4eca2920-9e32-40c4-b838-b63432d2b2e0"
      },
      "source": [
        "\n",
        "binary_prediction_data = add_predictions(df,\n",
        "                                         binary_predictions,\n",
        "                                         binary_val_y)\n",
        "\n",
        "\n",
        "sns.heatmap(data=binary_prediction_data['confusion_matrix'],\n",
        "            xticklabels = ['Predicted Normal','Predicted Attack'],\n",
        "            yticklabels = ['Actual Normal','Actual Attack'],\n",
        "            cmap=\"YlGnBu\",\n",
        "            fmt='d',\n",
        "            annot=True)"
      ],
      "execution_count": null,
      "outputs": [
        {
          "output_type": "execute_result",
          "data": {
            "text/plain": [
              "<matplotlib.axes._subplots.AxesSubplot at 0x7fa94612a250>"
            ]
          },
          "metadata": {
            "tags": []
          },
          "execution_count": 14
        },
        {
          "output_type": "display_data",
          "data": {
            "image/png": "[encoded data removed]",
            "text/plain": [
              "<Figure size 432x288 with 2 Axes>"
            ]
          },
          "metadata": {
            "tags": [],
            "needs_background": "light"
          }
        }
      ]
    },
    {
      "cell_type": "code",
      "metadata": {
        "id": "WF0NnkwSBGyk"
      },
      "source": [
        "from sklearn.metrics import classification_report "
      ],
      "execution_count": null,
      "outputs": []
    },
    {
      "cell_type": "code",
      "metadata": {
        "colab": {
          "base_uri": "https://localhost:8080/"
        },
        "id": "tgXKaw7FBXJu",
        "outputId": "fe0190b8-194a-4d6b-a8fb-693e50ceb2b5"
      },
      "source": [
        "print(classification_report(binary_val_y,binary_predictions))"
      ],
      "execution_count": null,
      "outputs": [
        {
          "output_type": "stream",
          "text": [
            "              precision    recall  f1-score   support\n",
            "\n",
            "           0       0.99      0.99      0.99     40483\n",
            "           1       0.99      0.99      0.99     35101\n",
            "\n",
            "    accuracy                           0.99     75584\n",
            "   macro avg       0.99      0.99      0.99     75584\n",
            "weighted avg       0.99      0.99      0.99     75584\n",
            "\n"
          ],
          "name": "stdout"
        }
      ]
    },
    {
      "cell_type": "code",
      "metadata": {
        "colab": {
          "base_uri": "https://localhost:8080/",
          "height": 315
        },
        "id": "p5g-D15KBO_W",
        "outputId": "67af761c-0357-4f4a-db33-2943237f5eed"
      },
      "source": [
        "binary_prediction_data['errors'].describe()"
      ],
      "execution_count": null,
      "outputs": [
        {
          "output_type": "execute_result",
          "data": {
            "text/html": [
              "<div>\n",
              "<style scoped>\n",
              "    .dataframe tbody tr th:only-of-type {\n",
              "        vertical-align: middle;\n",
              "    }\n",
              "\n",
              "    .dataframe tbody tr th {\n",
              "        vertical-align: top;\n",
              "    }\n",
              "\n",
              "    .dataframe thead th {\n",
              "        text-align: right;\n",
              "    }\n",
              "</style>\n",
              "<table border=\"1\" class=\"dataframe\">\n",
              "  <thead>\n",
              "    <tr style=\"text-align: right;\">\n",
              "      <th></th>\n",
              "      <th>duration</th>\n",
              "      <th>src_bytes</th>\n",
              "      <th>dst_bytes</th>\n",
              "      <th>land</th>\n",
              "      <th>wrong_fragment</th>\n",
              "      <th>urgent</th>\n",
              "      <th>hot</th>\n",
              "      <th>num_failed_logins</th>\n",
              "      <th>logged_in</th>\n",
              "      <th>num_compromised</th>\n",
              "      <th>root_shell</th>\n",
              "      <th>su_attempted</th>\n",
              "      <th>num_root</th>\n",
              "      <th>num_file_creations</th>\n",
              "      <th>num_shells</th>\n",
              "      <th>num_access_files</th>\n",
              "      <th>num_outbound_cmds</th>\n",
              "      <th>is_host_login</th>\n",
              "      <th>is_guest_login</th>\n",
              "      <th>count</th>\n",
              "      <th>srv_count</th>\n",
              "      <th>serror_rate</th>\n",
              "      <th>srv_serror_rate</th>\n",
              "      <th>rerror_rate</th>\n",
              "      <th>srv_rerror_rate</th>\n",
              "      <th>same_srv_rate</th>\n",
              "      <th>diff_srv_rate</th>\n",
              "      <th>srv_diff_host_rate</th>\n",
              "      <th>dst_host_count</th>\n",
              "      <th>dst_host_srv_count</th>\n",
              "      <th>dst_host_same_srv_rate</th>\n",
              "      <th>dst_host_diff_srv_rate</th>\n",
              "      <th>dst_host_same_src_port_rate</th>\n",
              "      <th>dst_host_srv_diff_host_rate</th>\n",
              "      <th>dst_host_serror_rate</th>\n",
              "      <th>dst_host_srv_serror_rate</th>\n",
              "      <th>dst_host_rerror_rate</th>\n",
              "      <th>dst_host_srv_rerror_rate</th>\n",
              "      <th>level</th>\n",
              "      <th>attack_flag</th>\n",
              "      <th>attack_map</th>\n",
              "      <th>predicted</th>\n",
              "      <th>actual</th>\n",
              "    </tr>\n",
              "  </thead>\n",
              "  <tbody>\n",
              "    <tr>\n",
              "      <th>count</th>\n",
              "      <td>494.000000</td>\n",
              "      <td>4.940000e+02</td>\n",
              "      <td>494.000000</td>\n",
              "      <td>494.000000</td>\n",
              "      <td>494.0</td>\n",
              "      <td>494.000000</td>\n",
              "      <td>494.000000</td>\n",
              "      <td>494.000000</td>\n",
              "      <td>494.000000</td>\n",
              "      <td>494.000000</td>\n",
              "      <td>494.000000</td>\n",
              "      <td>494.0</td>\n",
              "      <td>494.000000</td>\n",
              "      <td>494.000000</td>\n",
              "      <td>494.000000</td>\n",
              "      <td>494.000000</td>\n",
              "      <td>494.0</td>\n",
              "      <td>494.0</td>\n",
              "      <td>494.000000</td>\n",
              "      <td>494.000000</td>\n",
              "      <td>494.000000</td>\n",
              "      <td>494.000000</td>\n",
              "      <td>494.000000</td>\n",
              "      <td>494.000000</td>\n",
              "      <td>494.000000</td>\n",
              "      <td>494.000000</td>\n",
              "      <td>494.000000</td>\n",
              "      <td>494.000000</td>\n",
              "      <td>494.000000</td>\n",
              "      <td>494.000000</td>\n",
              "      <td>494.000000</td>\n",
              "      <td>494.000000</td>\n",
              "      <td>494.000000</td>\n",
              "      <td>494.000000</td>\n",
              "      <td>494.000000</td>\n",
              "      <td>494.000000</td>\n",
              "      <td>494.000000</td>\n",
              "      <td>494.000000</td>\n",
              "      <td>494.000000</td>\n",
              "      <td>494.000000</td>\n",
              "      <td>494.000000</td>\n",
              "      <td>494.000000</td>\n",
              "      <td>494.000000</td>\n",
              "    </tr>\n",
              "    <tr>\n",
              "      <th>mean</th>\n",
              "      <td>31.451417</td>\n",
              "      <td>4.740834e+03</td>\n",
              "      <td>481.643725</td>\n",
              "      <td>0.004049</td>\n",
              "      <td>0.0</td>\n",
              "      <td>0.002024</td>\n",
              "      <td>0.123482</td>\n",
              "      <td>0.002024</td>\n",
              "      <td>0.080972</td>\n",
              "      <td>0.153846</td>\n",
              "      <td>0.024291</td>\n",
              "      <td>0.0</td>\n",
              "      <td>0.220648</td>\n",
              "      <td>0.121457</td>\n",
              "      <td>0.010121</td>\n",
              "      <td>0.014170</td>\n",
              "      <td>0.0</td>\n",
              "      <td>0.0</td>\n",
              "      <td>0.004049</td>\n",
              "      <td>60.376518</td>\n",
              "      <td>4.589069</td>\n",
              "      <td>0.237065</td>\n",
              "      <td>0.197692</td>\n",
              "      <td>0.425648</td>\n",
              "      <td>0.425628</td>\n",
              "      <td>0.734737</td>\n",
              "      <td>0.056437</td>\n",
              "      <td>0.101356</td>\n",
              "      <td>128.921053</td>\n",
              "      <td>101.959514</td>\n",
              "      <td>0.537065</td>\n",
              "      <td>0.088806</td>\n",
              "      <td>0.170243</td>\n",
              "      <td>0.048320</td>\n",
              "      <td>0.088927</td>\n",
              "      <td>0.028826</td>\n",
              "      <td>0.349211</td>\n",
              "      <td>0.382692</td>\n",
              "      <td>15.668016</td>\n",
              "      <td>0.390688</td>\n",
              "      <td>0.609312</td>\n",
              "      <td>0.609312</td>\n",
              "      <td>0.390688</td>\n",
              "    </tr>\n",
              "    <tr>\n",
              "      <th>std</th>\n",
              "      <td>575.164240</td>\n",
              "      <td>9.878988e+04</td>\n",
              "      <td>3054.728748</td>\n",
              "      <td>0.063564</td>\n",
              "      <td>0.0</td>\n",
              "      <td>0.044992</td>\n",
              "      <td>1.111864</td>\n",
              "      <td>0.044992</td>\n",
              "      <td>0.273068</td>\n",
              "      <td>1.902442</td>\n",
              "      <td>0.154109</td>\n",
              "      <td>0.0</td>\n",
              "      <td>2.643431</td>\n",
              "      <td>1.288672</td>\n",
              "      <td>0.118727</td>\n",
              "      <td>0.134367</td>\n",
              "      <td>0.0</td>\n",
              "      <td>0.0</td>\n",
              "      <td>0.063564</td>\n",
              "      <td>105.802621</td>\n",
              "      <td>5.562038</td>\n",
              "      <td>0.307986</td>\n",
              "      <td>0.284728</td>\n",
              "      <td>0.490254</td>\n",
              "      <td>0.487691</td>\n",
              "      <td>0.422388</td>\n",
              "      <td>0.186550</td>\n",
              "      <td>0.231694</td>\n",
              "      <td>109.599843</td>\n",
              "      <td>110.944783</td>\n",
              "      <td>0.449518</td>\n",
              "      <td>0.204246</td>\n",
              "      <td>0.306778</td>\n",
              "      <td>0.163671</td>\n",
              "      <td>0.218148</td>\n",
              "      <td>0.135233</td>\n",
              "      <td>0.463968</td>\n",
              "      <td>0.472230</td>\n",
              "      <td>5.406696</td>\n",
              "      <td>0.488399</td>\n",
              "      <td>0.957089</td>\n",
              "      <td>0.488399</td>\n",
              "      <td>0.488399</td>\n",
              "    </tr>\n",
              "    <tr>\n",
              "      <th>min</th>\n",
              "      <td>0.000000</td>\n",
              "      <td>0.000000e+00</td>\n",
              "      <td>0.000000</td>\n",
              "      <td>0.000000</td>\n",
              "      <td>0.0</td>\n",
              "      <td>0.000000</td>\n",
              "      <td>0.000000</td>\n",
              "      <td>0.000000</td>\n",
              "      <td>0.000000</td>\n",
              "      <td>0.000000</td>\n",
              "      <td>0.000000</td>\n",
              "      <td>0.0</td>\n",
              "      <td>0.000000</td>\n",
              "      <td>0.000000</td>\n",
              "      <td>0.000000</td>\n",
              "      <td>0.000000</td>\n",
              "      <td>0.0</td>\n",
              "      <td>0.0</td>\n",
              "      <td>0.000000</td>\n",
              "      <td>1.000000</td>\n",
              "      <td>1.000000</td>\n",
              "      <td>0.000000</td>\n",
              "      <td>0.000000</td>\n",
              "      <td>0.000000</td>\n",
              "      <td>0.000000</td>\n",
              "      <td>0.000000</td>\n",
              "      <td>0.000000</td>\n",
              "      <td>0.000000</td>\n",
              "      <td>1.000000</td>\n",
              "      <td>1.000000</td>\n",
              "      <td>0.000000</td>\n",
              "      <td>0.000000</td>\n",
              "      <td>0.000000</td>\n",
              "      <td>0.000000</td>\n",
              "      <td>0.000000</td>\n",
              "      <td>0.000000</td>\n",
              "      <td>0.000000</td>\n",
              "      <td>0.000000</td>\n",
              "      <td>0.000000</td>\n",
              "      <td>0.000000</td>\n",
              "      <td>0.000000</td>\n",
              "      <td>0.000000</td>\n",
              "      <td>0.000000</td>\n",
              "    </tr>\n",
              "    <tr>\n",
              "      <th>25%</th>\n",
              "      <td>0.000000</td>\n",
              "      <td>0.000000e+00</td>\n",
              "      <td>0.000000</td>\n",
              "      <td>0.000000</td>\n",
              "      <td>0.0</td>\n",
              "      <td>0.000000</td>\n",
              "      <td>0.000000</td>\n",
              "      <td>0.000000</td>\n",
              "      <td>0.000000</td>\n",
              "      <td>0.000000</td>\n",
              "      <td>0.000000</td>\n",
              "      <td>0.0</td>\n",
              "      <td>0.000000</td>\n",
              "      <td>0.000000</td>\n",
              "      <td>0.000000</td>\n",
              "      <td>0.000000</td>\n",
              "      <td>0.0</td>\n",
              "      <td>0.0</td>\n",
              "      <td>0.000000</td>\n",
              "      <td>1.000000</td>\n",
              "      <td>1.000000</td>\n",
              "      <td>0.000000</td>\n",
              "      <td>0.000000</td>\n",
              "      <td>0.000000</td>\n",
              "      <td>0.000000</td>\n",
              "      <td>0.122500</td>\n",
              "      <td>0.000000</td>\n",
              "      <td>0.000000</td>\n",
              "      <td>13.000000</td>\n",
              "      <td>6.000000</td>\n",
              "      <td>0.050000</td>\n",
              "      <td>0.000000</td>\n",
              "      <td>0.000000</td>\n",
              "      <td>0.000000</td>\n",
              "      <td>0.000000</td>\n",
              "      <td>0.000000</td>\n",
              "      <td>0.000000</td>\n",
              "      <td>0.000000</td>\n",
              "      <td>15.000000</td>\n",
              "      <td>0.000000</td>\n",
              "      <td>0.000000</td>\n",
              "      <td>0.000000</td>\n",
              "      <td>0.000000</td>\n",
              "    </tr>\n",
              "    <tr>\n",
              "      <th>50%</th>\n",
              "      <td>0.000000</td>\n",
              "      <td>0.000000e+00</td>\n",
              "      <td>0.000000</td>\n",
              "      <td>0.000000</td>\n",
              "      <td>0.0</td>\n",
              "      <td>0.000000</td>\n",
              "      <td>0.000000</td>\n",
              "      <td>0.000000</td>\n",
              "      <td>0.000000</td>\n",
              "      <td>0.000000</td>\n",
              "      <td>0.000000</td>\n",
              "      <td>0.0</td>\n",
              "      <td>0.000000</td>\n",
              "      <td>0.000000</td>\n",
              "      <td>0.000000</td>\n",
              "      <td>0.000000</td>\n",
              "      <td>0.0</td>\n",
              "      <td>0.0</td>\n",
              "      <td>0.000000</td>\n",
              "      <td>2.000000</td>\n",
              "      <td>2.000000</td>\n",
              "      <td>0.000000</td>\n",
              "      <td>0.000000</td>\n",
              "      <td>0.000000</td>\n",
              "      <td>0.000000</td>\n",
              "      <td>1.000000</td>\n",
              "      <td>0.000000</td>\n",
              "      <td>0.000000</td>\n",
              "      <td>119.000000</td>\n",
              "      <td>21.000000</td>\n",
              "      <td>0.580000</td>\n",
              "      <td>0.020000</td>\n",
              "      <td>0.020000</td>\n",
              "      <td>0.000000</td>\n",
              "      <td>0.000000</td>\n",
              "      <td>0.000000</td>\n",
              "      <td>0.010000</td>\n",
              "      <td>0.010000</td>\n",
              "      <td>18.000000</td>\n",
              "      <td>0.000000</td>\n",
              "      <td>0.000000</td>\n",
              "      <td>1.000000</td>\n",
              "      <td>0.000000</td>\n",
              "    </tr>\n",
              "    <tr>\n",
              "      <th>75%</th>\n",
              "      <td>0.000000</td>\n",
              "      <td>0.000000e+00</td>\n",
              "      <td>0.000000</td>\n",
              "      <td>0.000000</td>\n",
              "      <td>0.0</td>\n",
              "      <td>0.000000</td>\n",
              "      <td>0.000000</td>\n",
              "      <td>0.000000</td>\n",
              "      <td>0.000000</td>\n",
              "      <td>0.000000</td>\n",
              "      <td>0.000000</td>\n",
              "      <td>0.0</td>\n",
              "      <td>0.000000</td>\n",
              "      <td>0.000000</td>\n",
              "      <td>0.000000</td>\n",
              "      <td>0.000000</td>\n",
              "      <td>0.0</td>\n",
              "      <td>0.0</td>\n",
              "      <td>0.000000</td>\n",
              "      <td>49.000000</td>\n",
              "      <td>5.000000</td>\n",
              "      <td>0.500000</td>\n",
              "      <td>0.500000</td>\n",
              "      <td>1.000000</td>\n",
              "      <td>1.000000</td>\n",
              "      <td>1.000000</td>\n",
              "      <td>0.060000</td>\n",
              "      <td>0.000000</td>\n",
              "      <td>255.000000</td>\n",
              "      <td>255.000000</td>\n",
              "      <td>1.000000</td>\n",
              "      <td>0.070000</td>\n",
              "      <td>0.150000</td>\n",
              "      <td>0.020000</td>\n",
              "      <td>0.047500</td>\n",
              "      <td>0.010000</td>\n",
              "      <td>1.000000</td>\n",
              "      <td>1.000000</td>\n",
              "      <td>19.000000</td>\n",
              "      <td>1.000000</td>\n",
              "      <td>1.000000</td>\n",
              "      <td>1.000000</td>\n",
              "      <td>1.000000</td>\n",
              "    </tr>\n",
              "    <tr>\n",
              "      <th>max</th>\n",
              "      <td>12743.000000</td>\n",
              "      <td>2.194619e+06</td>\n",
              "      <td>51633.000000</td>\n",
              "      <td>1.000000</td>\n",
              "      <td>0.0</td>\n",
              "      <td>1.000000</td>\n",
              "      <td>18.000000</td>\n",
              "      <td>1.000000</td>\n",
              "      <td>1.000000</td>\n",
              "      <td>38.000000</td>\n",
              "      <td>1.000000</td>\n",
              "      <td>0.0</td>\n",
              "      <td>54.000000</td>\n",
              "      <td>21.000000</td>\n",
              "      <td>2.000000</td>\n",
              "      <td>2.000000</td>\n",
              "      <td>0.0</td>\n",
              "      <td>0.0</td>\n",
              "      <td>1.000000</td>\n",
              "      <td>511.000000</td>\n",
              "      <td>47.000000</td>\n",
              "      <td>1.000000</td>\n",
              "      <td>1.000000</td>\n",
              "      <td>1.000000</td>\n",
              "      <td>1.000000</td>\n",
              "      <td>1.000000</td>\n",
              "      <td>1.000000</td>\n",
              "      <td>1.000000</td>\n",
              "      <td>255.000000</td>\n",
              "      <td>255.000000</td>\n",
              "      <td>1.000000</td>\n",
              "      <td>1.000000</td>\n",
              "      <td>1.000000</td>\n",
              "      <td>1.000000</td>\n",
              "      <td>1.000000</td>\n",
              "      <td>1.000000</td>\n",
              "      <td>1.000000</td>\n",
              "      <td>1.000000</td>\n",
              "      <td>21.000000</td>\n",
              "      <td>1.000000</td>\n",
              "      <td>4.000000</td>\n",
              "      <td>1.000000</td>\n",
              "      <td>1.000000</td>\n",
              "    </tr>\n",
              "  </tbody>\n",
              "</table>\n",
              "</div>"
            ],
            "text/plain": [
              "           duration     src_bytes  ...   predicted      actual\n",
              "count    494.000000  4.940000e+02  ...  494.000000  494.000000\n",
              "mean      31.451417  4.740834e+03  ...    0.609312    0.390688\n",
              "std      575.164240  9.878988e+04  ...    0.488399    0.488399\n",
              "min        0.000000  0.000000e+00  ...    0.000000    0.000000\n",
              "25%        0.000000  0.000000e+00  ...    0.000000    0.000000\n",
              "50%        0.000000  0.000000e+00  ...    1.000000    0.000000\n",
              "75%        0.000000  0.000000e+00  ...    1.000000    1.000000\n",
              "max    12743.000000  2.194619e+06  ...    1.000000    1.000000\n",
              "\n",
              "[8 rows x 43 columns]"
            ]
          },
          "metadata": {
            "tags": []
          },
          "execution_count": 20
        }
      ]
    },
    {
      "cell_type": "code",
      "metadata": {
        "colab": {
          "base_uri": "https://localhost:8080/",
          "height": 315
        },
        "id": "-R84UG2lBlNe",
        "outputId": "d1080531-34ef-49fd-de1e-132979998d30"
      },
      "source": [
        "binary_prediction_data['non_zeros'].describe()"
      ],
      "execution_count": null,
      "outputs": [
        {
          "output_type": "execute_result",
          "data": {
            "text/html": [
              "<div>\n",
              "<style scoped>\n",
              "    .dataframe tbody tr th:only-of-type {\n",
              "        vertical-align: middle;\n",
              "    }\n",
              "\n",
              "    .dataframe tbody tr th {\n",
              "        vertical-align: top;\n",
              "    }\n",
              "\n",
              "    .dataframe thead th {\n",
              "        text-align: right;\n",
              "    }\n",
              "</style>\n",
              "<table border=\"1\" class=\"dataframe\">\n",
              "  <thead>\n",
              "    <tr style=\"text-align: right;\">\n",
              "      <th></th>\n",
              "      <th>duration</th>\n",
              "      <th>src_bytes</th>\n",
              "      <th>dst_bytes</th>\n",
              "      <th>land</th>\n",
              "      <th>urgent</th>\n",
              "      <th>hot</th>\n",
              "      <th>num_failed_logins</th>\n",
              "      <th>logged_in</th>\n",
              "      <th>num_compromised</th>\n",
              "      <th>root_shell</th>\n",
              "      <th>num_root</th>\n",
              "      <th>num_file_creations</th>\n",
              "      <th>num_shells</th>\n",
              "      <th>num_access_files</th>\n",
              "      <th>is_guest_login</th>\n",
              "      <th>count</th>\n",
              "      <th>srv_count</th>\n",
              "      <th>serror_rate</th>\n",
              "      <th>srv_serror_rate</th>\n",
              "      <th>rerror_rate</th>\n",
              "      <th>srv_rerror_rate</th>\n",
              "      <th>same_srv_rate</th>\n",
              "      <th>diff_srv_rate</th>\n",
              "      <th>srv_diff_host_rate</th>\n",
              "      <th>dst_host_count</th>\n",
              "      <th>dst_host_srv_count</th>\n",
              "      <th>dst_host_same_srv_rate</th>\n",
              "      <th>dst_host_diff_srv_rate</th>\n",
              "      <th>dst_host_same_src_port_rate</th>\n",
              "      <th>dst_host_srv_diff_host_rate</th>\n",
              "      <th>dst_host_serror_rate</th>\n",
              "      <th>dst_host_srv_serror_rate</th>\n",
              "      <th>dst_host_rerror_rate</th>\n",
              "      <th>dst_host_srv_rerror_rate</th>\n",
              "      <th>level</th>\n",
              "      <th>attack_flag</th>\n",
              "      <th>attack_map</th>\n",
              "      <th>predicted</th>\n",
              "      <th>actual</th>\n",
              "    </tr>\n",
              "  </thead>\n",
              "  <tbody>\n",
              "    <tr>\n",
              "      <th>count</th>\n",
              "      <td>494.000000</td>\n",
              "      <td>4.940000e+02</td>\n",
              "      <td>494.000000</td>\n",
              "      <td>494.000000</td>\n",
              "      <td>494.000000</td>\n",
              "      <td>494.000000</td>\n",
              "      <td>494.000000</td>\n",
              "      <td>494.000000</td>\n",
              "      <td>494.000000</td>\n",
              "      <td>494.000000</td>\n",
              "      <td>494.000000</td>\n",
              "      <td>494.000000</td>\n",
              "      <td>494.000000</td>\n",
              "      <td>494.000000</td>\n",
              "      <td>494.000000</td>\n",
              "      <td>494.000000</td>\n",
              "      <td>494.000000</td>\n",
              "      <td>494.000000</td>\n",
              "      <td>494.000000</td>\n",
              "      <td>494.000000</td>\n",
              "      <td>494.000000</td>\n",
              "      <td>494.000000</td>\n",
              "      <td>494.000000</td>\n",
              "      <td>494.000000</td>\n",
              "      <td>494.000000</td>\n",
              "      <td>494.000000</td>\n",
              "      <td>494.000000</td>\n",
              "      <td>494.000000</td>\n",
              "      <td>494.000000</td>\n",
              "      <td>494.000000</td>\n",
              "      <td>494.000000</td>\n",
              "      <td>494.000000</td>\n",
              "      <td>494.000000</td>\n",
              "      <td>494.000000</td>\n",
              "      <td>494.000000</td>\n",
              "      <td>494.000000</td>\n",
              "      <td>494.000000</td>\n",
              "      <td>494.000000</td>\n",
              "      <td>494.000000</td>\n",
              "    </tr>\n",
              "    <tr>\n",
              "      <th>mean</th>\n",
              "      <td>31.451417</td>\n",
              "      <td>4.740834e+03</td>\n",
              "      <td>481.643725</td>\n",
              "      <td>0.004049</td>\n",
              "      <td>0.002024</td>\n",
              "      <td>0.123482</td>\n",
              "      <td>0.002024</td>\n",
              "      <td>0.080972</td>\n",
              "      <td>0.153846</td>\n",
              "      <td>0.024291</td>\n",
              "      <td>0.220648</td>\n",
              "      <td>0.121457</td>\n",
              "      <td>0.010121</td>\n",
              "      <td>0.014170</td>\n",
              "      <td>0.004049</td>\n",
              "      <td>60.376518</td>\n",
              "      <td>4.589069</td>\n",
              "      <td>0.237065</td>\n",
              "      <td>0.197692</td>\n",
              "      <td>0.425648</td>\n",
              "      <td>0.425628</td>\n",
              "      <td>0.734737</td>\n",
              "      <td>0.056437</td>\n",
              "      <td>0.101356</td>\n",
              "      <td>128.921053</td>\n",
              "      <td>101.959514</td>\n",
              "      <td>0.537065</td>\n",
              "      <td>0.088806</td>\n",
              "      <td>0.170243</td>\n",
              "      <td>0.048320</td>\n",
              "      <td>0.088927</td>\n",
              "      <td>0.028826</td>\n",
              "      <td>0.349211</td>\n",
              "      <td>0.382692</td>\n",
              "      <td>15.668016</td>\n",
              "      <td>0.390688</td>\n",
              "      <td>0.609312</td>\n",
              "      <td>0.609312</td>\n",
              "      <td>0.390688</td>\n",
              "    </tr>\n",
              "    <tr>\n",
              "      <th>std</th>\n",
              "      <td>575.164240</td>\n",
              "      <td>9.878988e+04</td>\n",
              "      <td>3054.728748</td>\n",
              "      <td>0.063564</td>\n",
              "      <td>0.044992</td>\n",
              "      <td>1.111864</td>\n",
              "      <td>0.044992</td>\n",
              "      <td>0.273068</td>\n",
              "      <td>1.902442</td>\n",
              "      <td>0.154109</td>\n",
              "      <td>2.643431</td>\n",
              "      <td>1.288672</td>\n",
              "      <td>0.118727</td>\n",
              "      <td>0.134367</td>\n",
              "      <td>0.063564</td>\n",
              "      <td>105.802621</td>\n",
              "      <td>5.562038</td>\n",
              "      <td>0.307986</td>\n",
              "      <td>0.284728</td>\n",
              "      <td>0.490254</td>\n",
              "      <td>0.487691</td>\n",
              "      <td>0.422388</td>\n",
              "      <td>0.186550</td>\n",
              "      <td>0.231694</td>\n",
              "      <td>109.599843</td>\n",
              "      <td>110.944783</td>\n",
              "      <td>0.449518</td>\n",
              "      <td>0.204246</td>\n",
              "      <td>0.306778</td>\n",
              "      <td>0.163671</td>\n",
              "      <td>0.218148</td>\n",
              "      <td>0.135233</td>\n",
              "      <td>0.463968</td>\n",
              "      <td>0.472230</td>\n",
              "      <td>5.406696</td>\n",
              "      <td>0.488399</td>\n",
              "      <td>0.957089</td>\n",
              "      <td>0.488399</td>\n",
              "      <td>0.488399</td>\n",
              "    </tr>\n",
              "    <tr>\n",
              "      <th>min</th>\n",
              "      <td>0.000000</td>\n",
              "      <td>0.000000e+00</td>\n",
              "      <td>0.000000</td>\n",
              "      <td>0.000000</td>\n",
              "      <td>0.000000</td>\n",
              "      <td>0.000000</td>\n",
              "      <td>0.000000</td>\n",
              "      <td>0.000000</td>\n",
              "      <td>0.000000</td>\n",
              "      <td>0.000000</td>\n",
              "      <td>0.000000</td>\n",
              "      <td>0.000000</td>\n",
              "      <td>0.000000</td>\n",
              "      <td>0.000000</td>\n",
              "      <td>0.000000</td>\n",
              "      <td>1.000000</td>\n",
              "      <td>1.000000</td>\n",
              "      <td>0.000000</td>\n",
              "      <td>0.000000</td>\n",
              "      <td>0.000000</td>\n",
              "      <td>0.000000</td>\n",
              "      <td>0.000000</td>\n",
              "      <td>0.000000</td>\n",
              "      <td>0.000000</td>\n",
              "      <td>1.000000</td>\n",
              "      <td>1.000000</td>\n",
              "      <td>0.000000</td>\n",
              "      <td>0.000000</td>\n",
              "      <td>0.000000</td>\n",
              "      <td>0.000000</td>\n",
              "      <td>0.000000</td>\n",
              "      <td>0.000000</td>\n",
              "      <td>0.000000</td>\n",
              "      <td>0.000000</td>\n",
              "      <td>0.000000</td>\n",
              "      <td>0.000000</td>\n",
              "      <td>0.000000</td>\n",
              "      <td>0.000000</td>\n",
              "      <td>0.000000</td>\n",
              "    </tr>\n",
              "    <tr>\n",
              "      <th>25%</th>\n",
              "      <td>0.000000</td>\n",
              "      <td>0.000000e+00</td>\n",
              "      <td>0.000000</td>\n",
              "      <td>0.000000</td>\n",
              "      <td>0.000000</td>\n",
              "      <td>0.000000</td>\n",
              "      <td>0.000000</td>\n",
              "      <td>0.000000</td>\n",
              "      <td>0.000000</td>\n",
              "      <td>0.000000</td>\n",
              "      <td>0.000000</td>\n",
              "      <td>0.000000</td>\n",
              "      <td>0.000000</td>\n",
              "      <td>0.000000</td>\n",
              "      <td>0.000000</td>\n",
              "      <td>1.000000</td>\n",
              "      <td>1.000000</td>\n",
              "      <td>0.000000</td>\n",
              "      <td>0.000000</td>\n",
              "      <td>0.000000</td>\n",
              "      <td>0.000000</td>\n",
              "      <td>0.122500</td>\n",
              "      <td>0.000000</td>\n",
              "      <td>0.000000</td>\n",
              "      <td>13.000000</td>\n",
              "      <td>6.000000</td>\n",
              "      <td>0.050000</td>\n",
              "      <td>0.000000</td>\n",
              "      <td>0.000000</td>\n",
              "      <td>0.000000</td>\n",
              "      <td>0.000000</td>\n",
              "      <td>0.000000</td>\n",
              "      <td>0.000000</td>\n",
              "      <td>0.000000</td>\n",
              "      <td>15.000000</td>\n",
              "      <td>0.000000</td>\n",
              "      <td>0.000000</td>\n",
              "      <td>0.000000</td>\n",
              "      <td>0.000000</td>\n",
              "    </tr>\n",
              "    <tr>\n",
              "      <th>50%</th>\n",
              "      <td>0.000000</td>\n",
              "      <td>0.000000e+00</td>\n",
              "      <td>0.000000</td>\n",
              "      <td>0.000000</td>\n",
              "      <td>0.000000</td>\n",
              "      <td>0.000000</td>\n",
              "      <td>0.000000</td>\n",
              "      <td>0.000000</td>\n",
              "      <td>0.000000</td>\n",
              "      <td>0.000000</td>\n",
              "      <td>0.000000</td>\n",
              "      <td>0.000000</td>\n",
              "      <td>0.000000</td>\n",
              "      <td>0.000000</td>\n",
              "      <td>0.000000</td>\n",
              "      <td>2.000000</td>\n",
              "      <td>2.000000</td>\n",
              "      <td>0.000000</td>\n",
              "      <td>0.000000</td>\n",
              "      <td>0.000000</td>\n",
              "      <td>0.000000</td>\n",
              "      <td>1.000000</td>\n",
              "      <td>0.000000</td>\n",
              "      <td>0.000000</td>\n",
              "      <td>119.000000</td>\n",
              "      <td>21.000000</td>\n",
              "      <td>0.580000</td>\n",
              "      <td>0.020000</td>\n",
              "      <td>0.020000</td>\n",
              "      <td>0.000000</td>\n",
              "      <td>0.000000</td>\n",
              "      <td>0.000000</td>\n",
              "      <td>0.010000</td>\n",
              "      <td>0.010000</td>\n",
              "      <td>18.000000</td>\n",
              "      <td>0.000000</td>\n",
              "      <td>0.000000</td>\n",
              "      <td>1.000000</td>\n",
              "      <td>0.000000</td>\n",
              "    </tr>\n",
              "    <tr>\n",
              "      <th>75%</th>\n",
              "      <td>0.000000</td>\n",
              "      <td>0.000000e+00</td>\n",
              "      <td>0.000000</td>\n",
              "      <td>0.000000</td>\n",
              "      <td>0.000000</td>\n",
              "      <td>0.000000</td>\n",
              "      <td>0.000000</td>\n",
              "      <td>0.000000</td>\n",
              "      <td>0.000000</td>\n",
              "      <td>0.000000</td>\n",
              "      <td>0.000000</td>\n",
              "      <td>0.000000</td>\n",
              "      <td>0.000000</td>\n",
              "      <td>0.000000</td>\n",
              "      <td>0.000000</td>\n",
              "      <td>49.000000</td>\n",
              "      <td>5.000000</td>\n",
              "      <td>0.500000</td>\n",
              "      <td>0.500000</td>\n",
              "      <td>1.000000</td>\n",
              "      <td>1.000000</td>\n",
              "      <td>1.000000</td>\n",
              "      <td>0.060000</td>\n",
              "      <td>0.000000</td>\n",
              "      <td>255.000000</td>\n",
              "      <td>255.000000</td>\n",
              "      <td>1.000000</td>\n",
              "      <td>0.070000</td>\n",
              "      <td>0.150000</td>\n",
              "      <td>0.020000</td>\n",
              "      <td>0.047500</td>\n",
              "      <td>0.010000</td>\n",
              "      <td>1.000000</td>\n",
              "      <td>1.000000</td>\n",
              "      <td>19.000000</td>\n",
              "      <td>1.000000</td>\n",
              "      <td>1.000000</td>\n",
              "      <td>1.000000</td>\n",
              "      <td>1.000000</td>\n",
              "    </tr>\n",
              "    <tr>\n",
              "      <th>max</th>\n",
              "      <td>12743.000000</td>\n",
              "      <td>2.194619e+06</td>\n",
              "      <td>51633.000000</td>\n",
              "      <td>1.000000</td>\n",
              "      <td>1.000000</td>\n",
              "      <td>18.000000</td>\n",
              "      <td>1.000000</td>\n",
              "      <td>1.000000</td>\n",
              "      <td>38.000000</td>\n",
              "      <td>1.000000</td>\n",
              "      <td>54.000000</td>\n",
              "      <td>21.000000</td>\n",
              "      <td>2.000000</td>\n",
              "      <td>2.000000</td>\n",
              "      <td>1.000000</td>\n",
              "      <td>511.000000</td>\n",
              "      <td>47.000000</td>\n",
              "      <td>1.000000</td>\n",
              "      <td>1.000000</td>\n",
              "      <td>1.000000</td>\n",
              "      <td>1.000000</td>\n",
              "      <td>1.000000</td>\n",
              "      <td>1.000000</td>\n",
              "      <td>1.000000</td>\n",
              "      <td>255.000000</td>\n",
              "      <td>255.000000</td>\n",
              "      <td>1.000000</td>\n",
              "      <td>1.000000</td>\n",
              "      <td>1.000000</td>\n",
              "      <td>1.000000</td>\n",
              "      <td>1.000000</td>\n",
              "      <td>1.000000</td>\n",
              "      <td>1.000000</td>\n",
              "      <td>1.000000</td>\n",
              "      <td>21.000000</td>\n",
              "      <td>1.000000</td>\n",
              "      <td>4.000000</td>\n",
              "      <td>1.000000</td>\n",
              "      <td>1.000000</td>\n",
              "    </tr>\n",
              "  </tbody>\n",
              "</table>\n",
              "</div>"
            ],
            "text/plain": [
              "           duration     src_bytes  ...   predicted      actual\n",
              "count    494.000000  4.940000e+02  ...  494.000000  494.000000\n",
              "mean      31.451417  4.740834e+03  ...    0.609312    0.390688\n",
              "std      575.164240  9.878988e+04  ...    0.488399    0.488399\n",
              "min        0.000000  0.000000e+00  ...    0.000000    0.000000\n",
              "25%        0.000000  0.000000e+00  ...    0.000000    0.000000\n",
              "50%        0.000000  0.000000e+00  ...    1.000000    0.000000\n",
              "75%        0.000000  0.000000e+00  ...    1.000000    1.000000\n",
              "max    12743.000000  2.194619e+06  ...    1.000000    1.000000\n",
              "\n",
              "[8 rows x 39 columns]"
            ]
          },
          "metadata": {
            "tags": []
          },
          "execution_count": 22
        }
      ]
    },
    {
      "cell_type": "code",
      "metadata": {
        "colab": {
          "base_uri": "https://localhost:8080/"
        },
        "id": "incrlUv7B7lF",
        "outputId": "71300833-5014-40c1-e138-2c90f78881ef"
      },
      "source": [
        "binary_prediction_data['false_positives'].std()"
      ],
      "execution_count": null,
      "outputs": [
        {
          "output_type": "execute_result",
          "data": {
            "text/plain": [
              "duration                            4.588217\n",
              "src_bytes                      126494.421358\n",
              "dst_bytes                         604.618412\n",
              "land                                0.081378\n",
              "urgent                              0.000000\n",
              "hot                                 0.230556\n",
              "num_failed_logins                   0.000000\n",
              "logged_in                           0.114700\n",
              "num_compromised                     0.000000\n",
              "root_shell                          0.000000\n",
              "num_root                            0.000000\n",
              "num_file_creations                  0.000000\n",
              "num_shells                          0.000000\n",
              "num_access_files                    0.000000\n",
              "is_guest_login                      0.000000\n",
              "count                               1.009632\n",
              "srv_count                           4.440022\n",
              "serror_rate                         0.309343\n",
              "srv_serror_rate                     0.293112\n",
              "rerror_rate                         0.433252\n",
              "srv_rerror_rate                     0.428239\n",
              "same_srv_rate                       0.056580\n",
              "diff_srv_rate                       0.043374\n",
              "srv_diff_host_rate                  0.274108\n",
              "dst_host_count                     89.766243\n",
              "dst_host_srv_count                107.719138\n",
              "dst_host_same_srv_rate              0.362420\n",
              "dst_host_diff_srv_rate              0.084354\n",
              "dst_host_same_src_port_rate         0.314192\n",
              "dst_host_srv_diff_host_rate         0.108230\n",
              "dst_host_serror_rate                0.255808\n",
              "dst_host_srv_serror_rate            0.136190\n",
              "dst_host_rerror_rate                0.313017\n",
              "dst_host_srv_rerror_rate            0.372736\n",
              "level                               3.524108\n",
              "attack_flag                         0.000000\n",
              "attack_map                          0.000000\n",
              "predicted                           0.000000\n",
              "actual                              0.000000\n",
              "dtype: float64"
            ]
          },
          "metadata": {
            "tags": []
          },
          "execution_count": 23
        }
      ]
    },
    {
      "cell_type": "code",
      "metadata": {
        "colab": {
          "base_uri": "https://localhost:8080/"
        },
        "id": "_MZ8wAeKCBBW",
        "outputId": "2e2c984e-fb11-4688-c327-47c37396f040"
      },
      "source": [
        "# see the standard deviation of the false negatives\n",
        "binary_prediction_data['false_negatives'].std()"
      ],
      "execution_count": null,
      "outputs": [
        {
          "output_type": "execute_result",
          "data": {
            "text/plain": [
              "duration                        919.556527\n",
              "src_bytes                      5588.711744\n",
              "dst_bytes                      4765.361396\n",
              "land                              0.000000\n",
              "urgent                            0.071982\n",
              "hot                               1.744285\n",
              "num_failed_logins                 0.071982\n",
              "logged_in                         0.390546\n",
              "num_compromised                   3.032869\n",
              "root_shell                        0.242103\n",
              "num_root                          4.212729\n",
              "num_file_creations                2.050593\n",
              "num_shells                        0.189166\n",
              "num_access_files                  0.213431\n",
              "is_guest_login                    0.101532\n",
              "count                           122.278041\n",
              "srv_count                         6.340447\n",
              "serror_rate                       0.144493\n",
              "srv_serror_rate                   0.178516\n",
              "rerror_rate                       0.448577\n",
              "srv_rerror_rate                   0.461931\n",
              "same_srv_rate                     0.427379\n",
              "diff_srv_rate                     0.274809\n",
              "srv_diff_host_rate                0.071982\n",
              "dst_host_count                   96.623075\n",
              "dst_host_srv_count               51.913139\n",
              "dst_host_same_srv_rate            0.320898\n",
              "dst_host_diff_srv_rate            0.287728\n",
              "dst_host_same_src_port_rate       0.288083\n",
              "dst_host_srv_diff_host_rate       0.224201\n",
              "dst_host_serror_rate              0.103106\n",
              "dst_host_srv_serror_rate          0.133710\n",
              "dst_host_rerror_rate              0.445262\n",
              "dst_host_srv_rerror_rate          0.457982\n",
              "level                             7.204607\n",
              "attack_flag                       0.000000\n",
              "attack_map                        0.928610\n",
              "predicted                         0.000000\n",
              "actual                            0.000000\n",
              "dtype: float64"
            ]
          },
          "metadata": {
            "tags": []
          },
          "execution_count": 24
        }
      ]
    },
    {
      "cell_type": "code",
      "metadata": {
        "colab": {
          "base_uri": "https://localhost:8080/",
          "height": 351
        },
        "id": "jokbEtkoCJ6N",
        "outputId": "600b8dd1-b141-413a-bb51-a776c771b04e"
      },
      "source": [
        "\n",
        "binary_prediction_data['false_negatives'].attack.value_counts().plot.bar()"
      ],
      "execution_count": null,
      "outputs": [
        {
          "output_type": "execute_result",
          "data": {
            "text/plain": [
              "<matplotlib.axes._subplots.AxesSubplot at 0x7f50468c2990>"
            ]
          },
          "metadata": {
            "tags": []
          },
          "execution_count": 25
        },
        {
          "output_type": "display_data",
          "data": {
            "image/png": "[encoded data removed]",
            "text/plain": [
              "<Figure size 432x288 with 1 Axes>"
            ]
          },
          "metadata": {
            "tags": [],
            "needs_background": "light"
          }
        }
      ]
    },
    {
      "cell_type": "code",
      "metadata": {
        "colab": {
          "base_uri": "https://localhost:8080/"
        },
        "id": "AMm03315CPe9",
        "outputId": "a293d0fb-ec83-45b9-ec30-a8d5572a53db"
      },
      "source": [
        "outcomes = ['attack_flag','attack_map', 'actual']\n",
        "\n",
        "\n",
        "new_features = (binary_prediction_data['false_positives']==0).all(axis=0)\n",
        "feature_cols = binary_prediction_data['false_positives'].loc[:,new_features]\n",
        "feature_cols = feature_cols.drop(outcomes,axis=1)\n",
        "\n",
        "\n",
        "new_feature_columns = list(feature_cols.columns)\n",
        "new_feature_columns"
      ],
      "execution_count": null,
      "outputs": [
        {
          "output_type": "execute_result",
          "data": {
            "text/plain": [
              "['urgent',\n",
              " 'num_failed_logins',\n",
              " 'num_compromised',\n",
              " 'root_shell',\n",
              " 'num_root',\n",
              " 'num_file_creations',\n",
              " 'num_shells',\n",
              " 'num_access_files',\n",
              " 'is_guest_login']"
            ]
          },
          "metadata": {
            "tags": []
          },
          "execution_count": 26
        }
      ]
    },
    {
      "cell_type": "code",
      "metadata": {
        "id": "Mh-LGn6aCiLt"
      },
      "source": [
        "\n",
        "to_fit_new_features = to_fit.join(df[new_feature_columns])\n",
        "\n",
        "\n",
        "new_feature_train_X, new_feature_val_X, new_feature_train_y, new_feature_val_y = train_test_split(to_fit_new_features, binary_y)"
      ],
      "execution_count": null,
      "outputs": []
    },
    {
      "cell_type": "code",
      "metadata": {
        "colab": {
          "base_uri": "https://localhost:8080/"
        },
        "id": "7Pd3T10SCqJ9",
        "outputId": "ad2b33c3-2a6b-4a9c-d3ef-c998b9aa80a4"
      },
      "source": [
        "new_feature_model = RandomForestClassifier()\n",
        "new_feature_model.fit(new_feature_train_X, new_feature_train_y)\n",
        "new_feature_predictions = new_feature_model.predict(new_feature_val_X)\n",
        "\n",
        "\n",
        "new_feature_score = accuracy_score(new_feature_predictions,new_feature_val_y)\n",
        "\n",
        "new_feature_score"
      ],
      "execution_count": null,
      "outputs": [
        {
          "output_type": "execute_result",
          "data": {
            "text/plain": [
              "0.9938081478423777"
            ]
          },
          "metadata": {
            "tags": []
          },
          "execution_count": 28
        }
      ]
    },
    {
      "cell_type": "code",
      "metadata": {
        "colab": {
          "base_uri": "https://localhost:8080/",
          "height": 282
        },
        "id": "uwFoO6roCzjF",
        "outputId": "86e13f72-0b6a-4bb5-8f8e-d3d625a50019"
      },
      "source": [
        "new_prediction_data = add_predictions(df,\n",
        "                                      new_feature_predictions,\n",
        "                                      new_feature_val_y)\n",
        "\n",
        "\n",
        "sns.heatmap(data=new_prediction_data['confusion_matrix'],\n",
        "            xticklabels = ['Predicted Normal','Predicted Attack'],\n",
        "            yticklabels = ['Actual Normal','Actual Attack'],\n",
        "            cmap=\"YlGnBu\",\n",
        "            fmt='d',\n",
        "            annot=True)"
      ],
      "execution_count": null,
      "outputs": [
        {
          "output_type": "execute_result",
          "data": {
            "text/plain": [
              "<matplotlib.axes._subplots.AxesSubplot at 0x7f5046be3a50>"
            ]
          },
          "metadata": {
            "tags": []
          },
          "execution_count": 29
        },
        {
          "output_type": "display_data",
          "data": {
            "image/png": "[encoded data removed]",
            "text/plain": [
              "<Figure size 432x288 with 2 Axes>"
            ]
          },
          "metadata": {
            "tags": [],
            "needs_background": "light"
          }
        }
      ]
    },
    {
      "cell_type": "code",
      "metadata": {
        "colab": {
          "base_uri": "https://localhost:8080/",
          "height": 350
        },
        "id": "E2Ogo8hsDDwV",
        "outputId": "5160660a-53b6-408c-9cd3-61d087110677"
      },
      "source": [
        "# distribuition of the false negatives--what attacks did we miss?\n",
        "new_prediction_data['false_negatives'].attack.value_counts().plot.bar()"
      ],
      "execution_count": null,
      "outputs": [
        {
          "output_type": "execute_result",
          "data": {
            "text/plain": [
              "<matplotlib.axes._subplots.AxesSubplot at 0x7f5046b00650>"
            ]
          },
          "metadata": {
            "tags": []
          },
          "execution_count": 30
        },
        {
          "output_type": "display_data",
          "data": {
            "image/png": "[encoded data removed]",
            "text/plain": [
              "<Figure size 432x288 with 1 Axes>"
            ]
          },
          "metadata": {
            "tags": [],
            "needs_background": "light"
          }
        }
      ]
    },
    {
      "cell_type": "code",
      "metadata": {
        "colab": {
          "base_uri": "https://localhost:8080/"
        },
        "id": "1pP2n-TLDOZd",
        "outputId": "2ec9de27-3b37-468e-9f3e-9ed7d372e425"
      },
      "source": [
        "full_model = RandomForestClassifier(random_state=1)\n",
        "full_model.fit(to_fit, binary_y)\n",
        "full_predictions = full_model.predict(test_set)\n",
        "\n",
        "# get the score\n",
        "full_score = accuracy_score(full_predictions,test_binary_y)\n",
        "full_score"
      ],
      "execution_count": null,
      "outputs": [
        {
          "output_type": "execute_result",
          "data": {
            "text/plain": [
              "0.8035753892560884"
            ]
          },
          "metadata": {
            "tags": []
          },
          "execution_count": 31
        }
      ]
    },
    {
      "cell_type": "code",
      "metadata": {
        "colab": {
          "base_uri": "https://localhost:8080/",
          "height": 282
        },
        "id": "8gupY3Y_Diyd",
        "outputId": "1c9f86f1-22e9-4607-dd5f-a227e9335bd5"
      },
      "source": [
        "# capture the prediction data\n",
        "full_prediction_data = add_predictions(test_df, full_predictions, test_binary_y)\n",
        "\n",
        "# create a heatmap of the confusion matrix\n",
        "sns.heatmap(data=full_prediction_data['confusion_matrix'],\n",
        "            xticklabels = ['Predicted Normal','Predicted Attack'],\n",
        "            yticklabels = ['Actual Normal','Actual Attack'],\n",
        "            cmap=\"YlGnBu\",\n",
        "            fmt='d',\n",
        "            annot=True)"
      ],
      "execution_count": null,
      "outputs": [
        {
          "output_type": "execute_result",
          "data": {
            "text/plain": [
              "<matplotlib.axes._subplots.AxesSubplot at 0x7f50487b5ad0>"
            ]
          },
          "metadata": {
            "tags": []
          },
          "execution_count": 32
        },
        {
          "output_type": "display_data",
          "data": {
            "image/png": "[encoded data removed]",
            "text/plain": [
              "<Figure size 432x288 with 2 Axes>"
            ]
          },
          "metadata": {
            "tags": [],
            "needs_background": "light"
          }
        }
      ]
    },
    {
      "cell_type": "code",
      "metadata": {
        "colab": {
          "base_uri": "https://localhost:8080/"
        },
        "id": "NSvLs0KnDufF",
        "outputId": "18f098bd-b14d-4022-84fc-deee74d15dcb"
      },
      "source": [
        "\n",
        "label_encoder = LabelEncoder()\n",
        "\n",
        "\n",
        "features_to_encode = ['protocol_type', 'flag']\n",
        "dummy_encoded = pd.get_dummies(df[features_to_encode])\n",
        "test_dummy_encoded = pd.get_dummies(test_df[features_to_encode])\n",
        "\n",
        "\n",
        "label_encoder.fit(df.service)\n",
        "dummy_encoded['service'] = label_encoder.transform(df.service)\n",
        "test_dummy_encoded['service'] = label_encoder.transform(test_df.service)\n",
        "\n",
        "\n",
        "numeric_features = ['duration', 'src_bytes', 'dst_bytes']\n",
        "\n",
        "\n",
        "to_fit = dummy_encoded.join(df[numeric_features])\n",
        "test_set = test_dummy_encoded.join(test_df[numeric_features])\n",
        "\n",
        "\n",
        "print(to_fit.columns)\n",
        "print(test_set.columns)"
      ],
      "execution_count": null,
      "outputs": [
        {
          "output_type": "stream",
          "text": [
            "Index(['protocol_type_icmp', 'protocol_type_tcp', 'protocol_type_udp',\n",
            "       'flag_OTH', 'flag_REJ', 'flag_RSTO', 'flag_RSTOS0', 'flag_RSTR',\n",
            "       'flag_S0', 'flag_S1', 'flag_S2', 'flag_S3', 'flag_SF', 'flag_SH',\n",
            "       'service', 'duration', 'src_bytes', 'dst_bytes'],\n",
            "      dtype='object')\n",
            "Index(['protocol_type_icmp', 'protocol_type_tcp', 'protocol_type_udp',\n",
            "       'flag_OTH', 'flag_REJ', 'flag_RSTO', 'flag_RSTOS0', 'flag_RSTR',\n",
            "       'flag_S0', 'flag_S1', 'flag_S2', 'flag_S3', 'flag_SF', 'flag_SH',\n",
            "       'service', 'duration', 'src_bytes', 'dst_bytes'],\n",
            "      dtype='object')\n"
          ],
          "name": "stdout"
        }
      ]
    },
    {
      "cell_type": "code",
      "metadata": {
        "colab": {
          "base_uri": "https://localhost:8080/"
        },
        "id": "GCusbZd7FjzI",
        "outputId": "427022bd-a7d7-409b-fbb7-6eef3b29d2b3"
      },
      "source": [
        "\n",
        "full_model = RandomForestClassifier(random_state=1)\n",
        "full_model.fit(to_fit, binary_y)\n",
        "full_predictions = full_model.predict(test_set)\n",
        "\n",
        "\n",
        "full_score = accuracy_score(full_predictions,test_binary_y)\n",
        "full_score"
      ],
      "execution_count": null,
      "outputs": [
        {
          "output_type": "execute_result",
          "data": {
            "text/plain": [
              "0.7955462893137559"
            ]
          },
          "metadata": {
            "tags": []
          },
          "execution_count": 34
        }
      ]
    },
    {
      "cell_type": "code",
      "metadata": {
        "id": "m_zAcZo1FrhE"
      },
      "source": [
        "to_fit_new_features = to_fit.join(df[new_feature_columns])\n",
        "test_set_new_features = test_set.join(test_df[new_feature_columns])"
      ],
      "execution_count": null,
      "outputs": []
    },
    {
      "cell_type": "code",
      "metadata": {
        "colab": {
          "base_uri": "https://localhost:8080/"
        },
        "id": "Bn-vYbirFylU",
        "outputId": "50497166-8cdd-446a-b5bc-97208c7755f1"
      },
      "source": [
        "\n",
        "full_model.fit(to_fit_new_features,binary_y)\n",
        "full_predictions = full_model.predict(test_set_new_features)\n",
        "\n",
        "\n",
        "full_score = accuracy_score(full_predictions,test_binary_y)\n",
        "full_score"
      ],
      "execution_count": null,
      "outputs": [
        {
          "output_type": "execute_result",
          "data": {
            "text/plain": [
              "0.8065918466929868"
            ]
          },
          "metadata": {
            "tags": []
          },
          "execution_count": 36
        }
      ]
    },
    {
      "cell_type": "code",
      "metadata": {
        "colab": {
          "base_uri": "https://localhost:8080/"
        },
        "id": "0wVApEqlF5wk",
        "outputId": "929cb62c-6135-4a8e-f87c-734115f78969"
      },
      "source": [
        "\n",
        "multi_model = RandomForestClassifier()\n",
        "multi_model.fit(multi_train_X, multi_train_y)\n",
        "multi_predictions = multi_model.predict(multi_val_X)\n",
        "\n",
        "\n",
        "accuracy_score(multi_predictions,multi_val_y)"
      ],
      "execution_count": null,
      "outputs": [
        {
          "output_type": "execute_result",
          "data": {
            "text/plain": [
              "0.9765691151566469"
            ]
          },
          "metadata": {
            "tags": []
          },
          "execution_count": 37
        }
      ]
    },
    {
      "cell_type": "code",
      "metadata": {
        "id": "EgJP06N8GCqT"
      },
      "source": [
        "\n",
        "multi_feature_train_X, multi_feature_val_X, multi_feature_train_y, multi_feature_val_y = train_test_split(to_fit_new_features, multi_y)"
      ],
      "execution_count": null,
      "outputs": []
    },
    {
      "cell_type": "code",
      "metadata": {
        "colab": {
          "base_uri": "https://localhost:8080/"
        },
        "id": "DWkTi-z5GJxK",
        "outputId": "7733e61d-f8d2-44c9-9a41-a8f6a74f7f07"
      },
      "source": [
        "\n",
        "multi_model = RandomForestClassifier()\n",
        "multi_model.fit(multi_feature_train_X, multi_feature_train_y)\n",
        "multi_predictions = multi_model.predict(multi_feature_val_X)\n",
        "\n",
        "\n",
        "accuracy_score(multi_predictions,multi_feature_val_y)"
      ],
      "execution_count": null,
      "outputs": [
        {
          "output_type": "execute_result",
          "data": {
            "text/plain": [
              "0.9771695297367669"
            ]
          },
          "metadata": {
            "tags": []
          },
          "execution_count": 39
        }
      ]
    },
    {
      "cell_type": "code",
      "metadata": {
        "colab": {
          "base_uri": "https://localhost:8080/",
          "height": 366
        },
        "id": "-kJDooqTGQS0",
        "outputId": "2d9fc826-734b-473a-a70b-624c0f97fb91"
      },
      "source": [
        "multi_prediction_data = add_predictions(df, multi_predictions, multi_feature_val_y)\n",
        "\n",
        "# create a heatmap of the confusion matrix\n",
        "sns.heatmap(data=multi_prediction_data['confusion_matrix'],\n",
        "            xticklabels = ['Predicted ' + x for x in attack_labels],\n",
        "            yticklabels = ['Actual ' + x for x in attack_labels],\n",
        "            cmap=\"YlGnBu\",\n",
        "            fmt='d',\n",
        "            annot=True)"
      ],
      "execution_count": null,
      "outputs": [
        {
          "output_type": "execute_result",
          "data": {
            "text/plain": [
              "<matplotlib.axes._subplots.AxesSubplot at 0x7f5047425e50>"
            ]
          },
          "metadata": {
            "tags": []
          },
          "execution_count": 40
        },
        {
          "output_type": "display_data",
          "data": {
            "image/png": "[encoded data removed]",
            "text/plain": [
              "<Figure size 432x288 with 2 Axes>"
            ]
          },
          "metadata": {
            "tags": [],
            "needs_background": "light"
          }
        }
      ]
    },
    {
      "cell_type": "code",
      "metadata": {
        "colab": {
          "base_uri": "https://localhost:8080/"
        },
        "id": "hvHCBLX_GY1O",
        "outputId": "c7e0f141-d000-4f0b-9aef-0c93673b1ad2"
      },
      "source": [
        "\n",
        "multi_model.fit(to_fit_new_features, multi_y)\n",
        "full_multi_predictions = multi_model.predict(test_set_new_features)\n",
        "\n",
        "\n",
        "accuracy_score(full_multi_predictions,test_multi_y)"
      ],
      "execution_count": null,
      "outputs": [
        {
          "output_type": "execute_result",
          "data": {
            "text/plain": [
              "0.7468393736414851"
            ]
          },
          "metadata": {
            "tags": []
          },
          "execution_count": 41
        }
      ]
    },
    {
      "cell_type": "code",
      "metadata": {
        "colab": {
          "base_uri": "https://localhost:8080/"
        },
        "id": "Q7P_yapZGf6e",
        "outputId": "04853397-1c9c-47c9-dbd0-2fdf2909c6a8"
      },
      "source": [
        "\n",
        "multi_model.fit(to_fit, multi_y)\n",
        "full_multi_predictions = multi_model.predict(test_set)\n",
        "\n",
        "\n",
        "accuracy_score(full_multi_predictions,test_multi_y)"
      ],
      "execution_count": null,
      "outputs": [
        {
          "output_type": "execute_result",
          "data": {
            "text/plain": [
              "0.7689748480681364"
            ]
          },
          "metadata": {
            "tags": []
          },
          "execution_count": 42
        }
      ]
    },
    {
      "cell_type": "code",
      "metadata": {
        "colab": {
          "base_uri": "https://localhost:8080/",
          "height": 366
        },
        "id": "m5knslXMGpPk",
        "outputId": "bb055d06-aad3-42a4-df86-fe9bea1e6f34"
      },
      "source": [
        "multi_prediction_data = add_predictions(df, full_multi_predictions, test_multi_y)\n",
        "\n",
        "\n",
        "sns.heatmap(data=multi_prediction_data['confusion_matrix'],\n",
        "            xticklabels = ['Predicted ' + x for x in attack_labels],\n",
        "            yticklabels = ['Actual ' + x for x in attack_labels],\n",
        "            cmap=\"YlGnBu\",\n",
        "            fmt='d',\n",
        "            annot=True)"
      ],
      "execution_count": null,
      "outputs": [
        {
          "output_type": "execute_result",
          "data": {
            "text/plain": [
              "<matplotlib.axes._subplots.AxesSubplot at 0x7f50472eb410>"
            ]
          },
          "metadata": {
            "tags": []
          },
          "execution_count": 43
        },
        {
          "output_type": "display_data",
          "data": {
            "image/png": "[encoded data removed]",
            "text/plain": [
              "<Figure size 432x288 with 2 Axes>"
            ]
          },
          "metadata": {
            "tags": [],
            "needs_background": "light"
          }
        }
      ]
    }
  ]
}